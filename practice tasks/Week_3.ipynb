{
 "cells": [
  {
   "cell_type": "markdown",
   "id": "dcc3f001-88f1-475b-bf5a-5f0d1ca844a9",
   "metadata": {},
   "source": [
    "# Part 1:\n",
    "\n",
    "1) Give 1 real world example for:\n",
    "   - Binary Classification Task\n",
    "   - Multiclass Classification Task\n",
    "   - Regression Task\n",
    "\n",
    "Answer: \n",
    "1. Binary Classification Task - spam/not spam\n",
    "2. Multiclass Classification Task - spam/not spam/important\n",
    "3. Regression Task - predicting prices"
   ]
  },
  {
   "cell_type": "markdown",
   "id": "d533bd41",
   "metadata": {},
   "source": [
    "2)\n",
    "Classifying into 2 classes, a model produces the following outputs:\n",
    "\n",
    "\n",
    "| $y_i$     |               $\\hat{y_i}$                                  |\n",
    "|---------|----------------------------------------------------------|\n",
    "| 1       | 0.9 |\n",
    "| 1       | 0.4 |\n",
    "| 0       | 0.3 |\n",
    "| 0       | 0.6 |\n",
    "\n",
    "Calculate the binary cross-entropy loss."
   ]
  },
  {
   "cell_type": "code",
   "execution_count": null,
   "id": "fa23835b",
   "metadata": {},
   "outputs": [],
   "source": [
    "0.5736545"
   ]
  },
  {
   "cell_type": "markdown",
   "id": "2f1f846a",
   "metadata": {},
   "source": [
    "3) While improving a model complexity, if you notice that a model's training error is decreasing but the test error is getting higher, what does this indicate about the model's behavior?\n",
    "\n",
    "Answer: model is overfitted"
   ]
  },
  {
   "cell_type": "markdown",
   "id": "b75d5f95",
   "metadata": {},
   "source": [
    "4. Suppose we have a dataset with categorical targets $Y = ${$1, ..., K$}. \n",
    "\n",
    "Let $n_k$ be the size of the $k$-th category :\n",
    "\n",
    "$$\n",
    "n_k = \\sum_{i=1}^{n} \\mathbb{I}[y_i = k], \\quad \\sum_{k=1}^{K} n_k = n.\n",
    "$$\n",
    "\n",
    "Consider a dummy model which always predicts category $l$, $1<l<K$. What is the value of the error rate ? For which $l$\n",
    " it is minimal?"
   ]
  },
  {
   "cell_type": "markdown",
   "id": "716af1ec",
   "metadata": {},
   "source": [
    "Misclassification rate. The misclassification rate is minimal for the category(l) which appears the most frequently. "
   ]
  },
  {
   "cell_type": "markdown",
   "id": "03be6d8c",
   "metadata": {},
   "source": [
    "5. The MSE for a constant model $f_\\theta(x_i) = c$ is given by : \n",
    "\n",
    "$$\n",
    "\\frac{1}{n} \\sum_{i=1}^{n} (y_i - c)^2.\n",
    "$$\n",
    "\n",
    "Find the constant $c$ that minimizes the MSE."
   ]
  },
  {
   "cell_type": "markdown",
   "id": "98f73a6e-7bf3-4ede-9e06-7a392d56dd86",
   "metadata": {},
   "source": [
    "# Part 2:\n",
    "\n",
    "### Step 1 : Generate synthetic data (Y) following any type of distributions.\n"
   ]
  },
  {
   "cell_type": "code",
   "execution_count": 3,
   "id": "95d1ee72",
   "metadata": {},
   "outputs": [
    {
     "data": {
      "text/plain": [
       "array([11.05333419,  8.54529286,  6.21075208,  7.00950727,  7.88561789,\n",
       "       11.89771574,  9.27208606,  8.8343527 ,  9.41907938,  9.86207271,\n",
       "        8.35563419, 10.69088118, 10.30290679,  7.93337767, 12.24615482,\n",
       "       11.14584517,  5.8023584 ,  9.70412644, 11.67686204, 12.8076724 ,\n",
       "       11.72933711, 11.30601629, 12.56252503, 11.99824458,  8.38655481,\n",
       "        7.72230836,  7.03815249,  7.66946317,  8.52541731, 13.36003248,\n",
       "        9.3118672 , 11.97367254,  5.74252415, 10.39803257, 13.19800245,\n",
       "       10.7523463 , 13.88019402,  4.34551533,  9.40093577,  9.20327076,\n",
       "        9.65652824, 13.3365912 ,  9.25410852, 12.38615711, 11.78711385,\n",
       "       10.50570944, 12.11538796,  7.84342457, 11.46473628,  6.84581982,\n",
       "       11.8508254 , 10.89920255, 11.28879131,  9.39822845, 12.08794599,\n",
       "        7.24448923,  5.64574127, 12.18634033, 15.23100606, 13.39266898,\n",
       "       12.94823655,  8.24303189,  7.84276542, 13.0163768 , 10.86292792,\n",
       "        5.94118664, 12.12029554,  5.95616467, 12.22197469, 11.75377883,\n",
       "       11.62772907, 13.07327208,  6.69546173, 11.62281135, 13.1527473 ,\n",
       "       11.487387  , 11.80018031, 10.68598002,  7.01187101,  8.11331297,\n",
       "       10.1622853 , 11.79418506, 13.04006461, 10.01839802,  9.91456198,\n",
       "       11.00353985, 10.18233563, 10.10093858, 12.10946614, 12.73606232,\n",
       "       11.32424145, 10.71576408,  6.18540856,  8.70305382,  9.78665068,\n",
       "       11.58693536,  9.89158456, 13.7832847 , 11.46983618,  7.67046009,\n",
       "        9.51969181,  8.39032991, 13.41695749, 12.20688804, 12.02514225,\n",
       "        8.50555285,  8.48881767,  8.74158815, 12.37337528, 11.6182886 ,\n",
       "       13.32897188, 11.68420559,  8.79363111, 13.5390494 ,  9.11573788,\n",
       "       14.05025238,  8.05546816,  8.68089079,  8.93394445,  7.69998399,\n",
       "       13.08204769, 12.52846737, 16.6005945 , 10.43855649,  9.13546129,\n",
       "       11.59277183,  9.72297532, 10.74788715,  9.24507293, 10.80349664,\n",
       "        8.21087892, 13.47337736,  7.68885145, 10.2692015 , 12.20913123,\n",
       "        9.93071838, 11.49040751, 10.28003818, 12.84743348, 13.78501166,\n",
       "        8.55967768, 14.30521082, 13.47828188, 10.74148132, 10.59900217,\n",
       "       11.75407593, 12.5377893 , 11.32099171, 10.38772669, 11.55903226,\n",
       "        8.89955094, 13.48742413, 10.49658248,  9.51884533, 11.75902452,\n",
       "       13.01638463, 11.17225705, 13.36517474,  8.43183676, 10.61551486,\n",
       "       12.29091363,  8.01244159, 10.81839527, 11.42761318, 11.81030931,\n",
       "       10.16398636,  9.94188387,  7.58713651, 10.45311234,  9.3589345 ,\n",
       "       11.25945459, 11.28784482, 11.44708329, 10.46306485,  8.66399507,\n",
       "        9.81228714,  8.5214882 ,  8.53553284, 10.24669533, 10.17349511,\n",
       "        9.11260373,  7.28783412,  5.97155423,  9.64263774, 11.37097034,\n",
       "        9.21510443,  7.75369201,  9.783793  , 11.48618521,  7.64753504,\n",
       "        7.78478524, 13.33074025, 11.08200019,  8.28208557, 10.85872355,\n",
       "        9.4182468 , 12.0767715 , 10.84581023,  7.97232261,  9.88170688,\n",
       "       11.290546  ,  8.96461271,  9.69172737, 10.16875492,  8.91002511,\n",
       "       12.98245115, 10.83900592,  8.99576833,  7.41352311,  7.95549032,\n",
       "       10.93446889,  8.43139011,  9.97548268, 10.0321492 , 10.60136614,\n",
       "       10.79664545,  7.46874289,  8.83743682, 10.43529801, 10.08780163,\n",
       "       10.27512031, 14.19416037,  9.41792069,  8.56584009,  6.94810335,\n",
       "       10.96860992,  8.62174443,  9.77996909, 12.04781669, 11.02899239,\n",
       "       11.92841827,  8.03776046,  9.68713568, 13.71872091,  9.02200172,\n",
       "       12.41457225,  7.26356671,  7.71597543,  6.4097509 ,  9.33880575,\n",
       "        6.15961326, 11.52137095,  8.37695696, 13.65712177, 13.27973663,\n",
       "        9.72323295, 12.68946758, 10.6847126 , 10.34055502,  7.53426389,\n",
       "        9.38467656, 10.45608717,  9.70554089, 11.37403299, 13.00256202,\n",
       "       11.04185316, 12.5927218 ,  6.63528436, 13.50892057, 10.60023931,\n",
       "        8.54710189,  6.46395664,  9.55249333, 12.76817876, 11.73579969,\n",
       "       11.30255873,  8.51292016, 10.02913367,  9.86036295, 11.58179013,\n",
       "       10.89348478, 11.52564194, 11.13778099,  6.82610003, 11.80728438,\n",
       "        8.59066553,  8.08139986, 10.24136363, 12.58579273, 11.97900348,\n",
       "        8.62089513, 10.32140306, 10.40206422,  9.09348887, 11.90909153,\n",
       "        8.33557237, 13.62154648,  9.07192749,  8.76062264, 10.59211195,\n",
       "       10.58750864, 10.25842546, 10.95705719,  6.88655096, 12.89028917,\n",
       "        9.73385966,  9.65754877, 13.23012356,  7.78711338, 13.43339121,\n",
       "       10.46515397,  6.78974752,  8.30117387,  7.63721698, 10.84945392,\n",
       "        9.32294495, 12.34427633, 11.85559701,  7.85791466, 12.10273479,\n",
       "       12.96930799, 13.1483039 ,  6.50723852, 14.41618547, 10.87075306,\n",
       "        7.1991699 ,  6.05572611,  9.22894735, 10.01889912,  8.26622294,\n",
       "        9.97124861, 14.57991188, 10.11573207,  8.2535205 ,  9.63136497,\n",
       "       12.14247537, 14.25886505, 10.54893045,  9.74594735,  8.90457938,\n",
       "       13.19076967, 10.94416766, 12.41642799, 12.94963648, 10.94775381,\n",
       "        9.97936767,  9.23820455,  6.81041038, 12.68288383, 10.30708386,\n",
       "       12.48469641,  4.97585988,  8.28477116, 10.27710957, 12.15553972,\n",
       "       10.88774973,  8.03797743, 10.96220141, 10.37304086,  9.85252601,\n",
       "        9.09390936,  9.58193918,  9.31858155,  6.46628309, 10.2484437 ,\n",
       "        7.48466538,  6.0993881 , 11.48947034,  8.88709831,  7.69611609,\n",
       "        6.34222088,  6.20328357,  9.42249695,  9.72697982,  8.87076508,\n",
       "        9.91893772,  8.00749201,  8.86746556,  9.38568643,  7.9886692 ,\n",
       "        8.84162757,  9.97691011, 13.08450489,  9.25770405, 12.73339753,\n",
       "        9.89532153, 11.1505209 , 12.11587152, 10.81046121, 11.47430188,\n",
       "        9.68293471, 13.50433194, 10.01805467, 12.49231419,  8.17987207,\n",
       "       10.20873428,  9.77009658,  9.80102237, 10.50012532,  7.10638362,\n",
       "       10.581317  , 11.59914764, 10.21850804,  8.25456685, 11.84081984,\n",
       "        8.60079613, 11.65624034,  7.4075665 ,  8.03227029, 11.59093115,\n",
       "       12.90665443, 13.51255304,  8.83157963, 12.24239132,  9.68671013,\n",
       "       10.83990358, 10.40718587, 14.19260858, 10.50359665,  7.1020757 ,\n",
       "        6.53381784,  8.15343341, 11.19770614, 10.07266607, 10.13802542,\n",
       "        9.50441432, 11.53568116, 12.28310371, 11.77867183,  6.13142676,\n",
       "       10.06340248, 10.60531803, 10.4526945 ,  6.58104803, 11.32076735,\n",
       "        9.98455639, 11.49550543, 11.34513607, 10.63948917, 11.89251969,\n",
       "       12.06987208, 10.30341868,  8.82507965,  9.26045081, 11.60101951,\n",
       "       11.42173634,  8.08063581,  9.00176723, 10.78709602,  8.17403902,\n",
       "        5.92724175, 10.88117351,  8.18157429, 11.23783181,  8.88498825,\n",
       "        8.98222972,  7.16177993,  7.48387625, 12.84273345, 10.47147968,\n",
       "        8.26128325, 10.89829511, 11.14355745, 10.45634813, 10.09671218,\n",
       "       10.20890419, 14.3051254 , 13.01407025, 12.59045812, 12.3514877 ,\n",
       "        7.71517617, 11.05782184,  7.52859286,  9.25026095,  8.64211504,\n",
       "       10.66248533, 11.68576296,  8.49747389,  9.79753992, 10.34889593,\n",
       "        9.52291681, 11.4208332 , 10.2236745 , 10.41133326, 10.38034438,\n",
       "        8.63165254,  9.1050231 ,  9.60300207,  5.71398217,  8.62476397,\n",
       "        8.64739218, 14.55096806,  9.95183964, 11.17167308,  9.24445955,\n",
       "       13.9583091 , 10.17078164,  8.17597594,  8.20634345, 10.61531157,\n",
       "        4.36894971,  8.64959174, 10.1167391 ,  8.77677759,  9.66503276,\n",
       "       10.89764551, 11.73910968, 13.30865759, 13.79326135, 10.00585943,\n",
       "       11.77076146, 10.88463373, 12.24839319,  7.73601574,  7.03027851,\n",
       "       13.96426612, 14.72437209, 10.87088345,  7.22314046, 10.76302981,\n",
       "        9.70790129,  8.10620824,  8.34340855,  6.70599146, 11.75855566,\n",
       "       11.74093261, 10.38534818,  9.9867772 , 12.44710937, 13.69544454,\n",
       "        7.95751332,  5.37290385, 10.68031873, 13.07348222, 11.71843987,\n",
       "        9.39795937, 11.63071682,  9.3723155 , 12.10711955,  7.94561099,\n",
       "        8.6390707 , 10.67054333, 11.9702264 , 10.42527896,  6.14423437,\n",
       "       11.37523541, 13.70251379, 12.67532946, 12.50776128, 10.89705034,\n",
       "        7.33166613, 12.11962504, 13.8822757 , 12.32491775, 13.51573476,\n",
       "       11.10766156, 10.0815837 ,  8.81233617, 11.4867043 ,  6.36730329,\n",
       "       10.73846143,  8.24048383, 11.36692431,  7.17770284,  8.070643  ,\n",
       "       10.93063605, 11.85143063, 11.95547236,  8.28710266,  9.15825859,\n",
       "       12.57501227,  9.12839253,  7.2870583 , 10.60361503,  9.64574622,\n",
       "       11.17761969, 13.0081023 , 10.20663046, 11.25033658,  9.64545409,\n",
       "        7.5268455 , 11.85706686, 10.57118839,  7.236132  , 11.97915087,\n",
       "       11.39112022, 10.61178836, 11.99297913, 11.42380502, 11.54853475,\n",
       "        7.19845175,  9.06412533, 10.795707  ,  9.60454351,  8.28034029,\n",
       "       10.21935137, 10.47668576, 12.05298337, 12.39918112, 10.44073133,\n",
       "       10.77738754,  8.69759178,  8.08442073, 12.14838923, 11.51398737,\n",
       "       11.82891591,  9.33371836,  9.06639638, 12.68187776, 14.23220859,\n",
       "        9.48559094, 10.09954808,  5.9722927 ,  9.80831002, 11.73090395,\n",
       "       11.83912597, 12.24758299, 10.52849203,  8.67919132, 10.80576306,\n",
       "       11.31289639,  6.35046155, 11.91945809,  9.12057106, 12.22987464,\n",
       "        6.06214256,  6.43963156, 10.63330028,  6.60749708,  9.54948612,\n",
       "       10.14427657, 11.65834288,  8.6361912 , 10.70072735, 11.136176  ,\n",
       "       11.15502103, 10.34945682,  9.23455357,  9.04931006, 12.17159984,\n",
       "       10.62199517, 10.58348227,  7.8759843 , 11.51135188,  9.31749739,\n",
       "        9.07358046,  7.02446771, 12.08121235,  9.59530328, 10.08243398,\n",
       "        9.56676971,  7.82332099,  8.83699295,  7.44384636,  7.12094492,\n",
       "        7.4136708 ,  9.95058689,  5.94232125,  8.80849824,  8.70053866,\n",
       "       17.25680861, 10.26108697, 10.12135548, 11.74291203, 14.00129751,\n",
       "       11.70693332,  9.39023228, 10.99674503,  8.31722004, 11.3283764 ,\n",
       "        7.0803921 ,  9.7698756 ,  9.29677877,  7.62208118,  8.66139532,\n",
       "        7.7909934 ,  9.92175727, 11.43803136, 10.80482516,  9.48905535,\n",
       "        9.40446198,  9.29745437,  9.31034489,  8.59596629,  8.08151685,\n",
       "        9.47859534,  7.92677526,  9.05207736,  7.00612491,  8.27591474,\n",
       "       12.31690129, 12.7045443 , 12.66326839, 11.47952293, 10.73313041,\n",
       "       12.06238735, 12.83328954, 13.84884148,  8.02711206,  9.78980656,\n",
       "       13.01827017,  8.69383862, 12.40138012,  9.77033013,  8.58037614,\n",
       "        8.39477185, 10.88611065,  9.58536005, 10.5168586 , 11.66852192,\n",
       "        9.28135629, 11.09193608, 10.81273388,  8.48591699, 11.29676622,\n",
       "        7.33096806, 10.84093249, 12.43793354, 13.08591736, 11.06092981,\n",
       "        5.8512537 ,  7.91211168, 11.93253122,  6.5560634 ,  8.80503571,\n",
       "        6.99902087, 11.77029615, 12.93945647,  8.35023588,  6.95715931,\n",
       "        9.63426279,  6.39401235,  7.50681583, 10.52338421, 11.55628173,\n",
       "       11.71477956, 13.44366995,  8.13853869, 10.65362471,  6.1670692 ,\n",
       "        9.57175324,  9.38019279, 10.84798702, 10.4608405 , 10.68213623,\n",
       "        6.54357351, 14.01536041,  7.2676119 , 10.33066282, 10.98176333,\n",
       "       10.94272697, 11.05033519,  7.34860291, 11.26654986,  8.5371451 ,\n",
       "       10.19213463, 10.99298215,  6.67224455, 10.85310611, 11.14924282,\n",
       "        9.64354477, 10.79964099, 12.27981268, 13.00246776,  9.26090863,\n",
       "        7.17709567, 11.23570641, 12.76602401,  9.83670904,  5.84619884,\n",
       "        8.25087642,  9.87625804, 10.17861535,  9.39538423, 10.66243767,\n",
       "        7.39808958,  9.25944908,  7.28250944, 10.90135054, 15.12303384,\n",
       "       12.18994598, 11.34619541, 12.07967384,  6.82487737,  9.78439435,\n",
       "        7.87771   , 13.67965785,  8.1835558 , 10.68149393, 12.54375667,\n",
       "        9.50003085, 11.20627627, 10.15800223,  7.0194278 ,  8.04867043,\n",
       "        8.20246552,  8.33049362,  9.65330349, 10.0274789 ,  8.11579573,\n",
       "       10.55644769, 11.18401292, 10.33251951, 12.33975868, 10.79192179,\n",
       "        8.30362554,  7.48351529,  9.54158727, 12.43209804,  7.13965077,\n",
       "        9.83308449, 10.60368797, 13.1305231 , 10.87744374, 10.31277146,\n",
       "        8.90949935, 10.58668539, 11.02151919, 12.68232686, 10.75966959,\n",
       "        9.28219121, 12.18639822, 11.52273072, 10.95691037,  9.02895311,\n",
       "       10.47067514,  8.89268677,  5.84251993, 11.40709754,  9.72746444,\n",
       "       10.01681367,  9.16336405,  6.6143692 ,  8.01199411,  7.75614499,\n",
       "       11.66311263, 13.15771377, 10.49029346,  6.59853054,  7.56987353,\n",
       "       10.93861897,  7.04261591, 12.96148349,  7.74176498,  7.04897733,\n",
       "        8.76200729, 11.5883501 , 10.32953859,  9.70218733, 11.0600444 ,\n",
       "       13.89374661,  6.28261158, 10.48415132, 13.74079883,  9.70053325,\n",
       "        7.83456611,  4.68862734,  8.80333414,  9.2796473 ,  9.14151662,\n",
       "        9.58749306, 10.12002451, 12.03326867,  9.94844654, 11.92192499,\n",
       "        8.59887797,  7.75327253, 11.34062493, 12.17223956,  8.67290017,\n",
       "        7.1888585 , 14.43087781, 10.6649706 , 11.53069278, 12.69272687,\n",
       "        9.50857727,  7.80178433,  8.30372529,  8.18006399, 11.2830912 ,\n",
       "       12.40440962,  9.75041582, 10.79603694,  8.1528433 , 11.11427554,\n",
       "        8.33681711, 11.8009248 , 12.8762226 ,  9.76192668,  8.63333491,\n",
       "       10.46115616,  7.03203335, 10.83043454, 11.26631107,  7.72430843,\n",
       "        8.58421487,  9.14179807, 10.58240458, 12.06045601,  9.84602879,\n",
       "       11.2361574 ,  9.56788445,  8.20098011,  9.0274202 ,  9.91302325,\n",
       "        9.49661297,  6.82202618,  4.96486683,  9.81489966,  7.48643017,\n",
       "        8.62017527,  9.54382615,  8.24255899, 10.0465216 ,  6.8737006 ,\n",
       "        9.76395991, 10.30224856,  9.38577414,  9.0195531 ,  9.06513789,\n",
       "        9.24152143, 13.18029064, 12.50422587,  9.21493756, 10.94705564,\n",
       "       12.68510834,  9.71260654, 10.08321233, 10.53745135, 10.92262734,\n",
       "       13.90434909, 12.79462988, 10.33042257, 13.38608092,  8.55134539,\n",
       "        7.80849958, 12.16215034, 10.67920536,  9.27089703,  9.5374269 ,\n",
       "       10.30769369,  8.56627386,  7.69430227, 11.00153807, 10.94463574,\n",
       "       10.54217785, 11.19954559,  9.28539489, 12.91559854,  8.06068231,\n",
       "       10.23767149,  9.72823105,  9.29494306,  9.5299046 ,  6.9471576 ,\n",
       "       12.45379289,  8.70933754,  9.59083161, 10.09287338, 10.27838603,\n",
       "       12.45754008,  3.70438083, 10.87016473,  8.44541605,  9.96037503,\n",
       "        9.8517806 ,  9.72839548, 11.1292884 , 11.57393402, 11.45418103,\n",
       "        8.29961904,  6.59299227, 13.93286077, 10.20463545,  9.05876161,\n",
       "       11.85343103, 10.30632331,  7.4006022 , 10.0994763 , 11.33047775,\n",
       "        8.06805038,  6.48421268,  9.74438695,  7.6059994 , 10.66505092,\n",
       "        8.82628235, 11.99448705,  9.73332529, 11.54181427,  9.23040804,\n",
       "       10.48944075, 11.16589841, 11.30052968, 12.10263473,  9.72608859,\n",
       "        9.39731276, 12.26081863, 11.8064194 , 10.52312946,  7.77465322,\n",
       "       11.56306136, 13.73166985, 11.81725745,  9.35560132, 11.25549322,\n",
       "       11.26165274,  9.56829848, 11.55773671, 10.39442009, 11.059737  ])"
      ]
     },
     "execution_count": 3,
     "metadata": {},
     "output_type": "execute_result"
    },
    {
     "data": {
      "image/png": "[encoded data removed]",
      "text/plain": [
       "<Figure size 640x480 with 1 Axes>"
      ]
     },
     "metadata": {},
     "output_type": "display_data"
    }
   ],
   "source": [
    "import numpy as np\n",
    "import matplotlib.pyplot as plt\n",
    "\n",
    "mean = 10\n",
    "std = 2\n",
    "n = 1000\n",
    "\n",
    "Y = np.random.normal(loc=mean, scale=std, size=n)\n",
    "\n",
    "plt.hist(Y, bins=30, edgecolor='black', alpha=0.7)\n",
    "\n",
    "\n",
    "Y"
   ]
  },
  {
   "cell_type": "markdown",
   "id": "43873931",
   "metadata": {},
   "source": [
    "### Step 2 : Define a function to compute MSE\n"
   ]
  },
  {
   "cell_type": "code",
   "execution_count": 4,
   "id": "7ef3454d",
   "metadata": {},
   "outputs": [
    {
     "data": {
      "text/plain": [
       "array([10., 10., 10., 10., 10., 10., 10., 10., 10., 10., 10., 10., 10.,\n",
       "       10., 10., 10., 10., 10., 10., 10., 10., 10., 10., 10., 10., 10.,\n",
       "       10., 10., 10., 10., 10., 10., 10., 10., 10., 10., 10., 10., 10.,\n",
       "       10., 10., 10., 10., 10., 10., 10., 10., 10., 10., 10., 10., 10.,\n",
       "       10., 10., 10., 10., 10., 10., 10., 10., 10., 10., 10., 10., 10.,\n",
       "       10., 10., 10., 10., 10., 10., 10., 10., 10., 10., 10., 10., 10.,\n",
       "       10., 10., 10., 10., 10., 10., 10., 10., 10., 10., 10., 10., 10.,\n",
       "       10., 10., 10., 10., 10., 10., 10., 10., 10., 10., 10., 10., 10.,\n",
       "       10., 10., 10., 10., 10., 10., 10., 10., 10., 10., 10., 10., 10.,\n",
       "       10., 10., 10., 10., 10., 10., 10., 10., 10., 10., 10., 10., 10.,\n",
       "       10., 10., 10., 10., 10., 10., 10., 10., 10., 10., 10., 10., 10.,\n",
       "       10., 10., 10., 10., 10., 10., 10., 10., 10., 10., 10., 10., 10.,\n",
       "       10., 10., 10., 10., 10., 10., 10., 10., 10., 10., 10., 10., 10.,\n",
       "       10., 10., 10., 10., 10., 10., 10., 10., 10., 10., 10., 10., 10.,\n",
       "       10., 10., 10., 10., 10., 10., 10., 10., 10., 10., 10., 10., 10.,\n",
       "       10., 10., 10., 10., 10., 10., 10., 10., 10., 10., 10., 10., 10.,\n",
       "       10., 10., 10., 10., 10., 10., 10., 10., 10., 10., 10., 10., 10.,\n",
       "       10., 10., 10., 10., 10., 10., 10., 10., 10., 10., 10., 10., 10.,\n",
       "       10., 10., 10., 10., 10., 10., 10., 10., 10., 10., 10., 10., 10.,\n",
       "       10., 10., 10., 10., 10., 10., 10., 10., 10., 10., 10., 10., 10.,\n",
       "       10., 10., 10., 10., 10., 10., 10., 10., 10., 10., 10., 10., 10.,\n",
       "       10., 10., 10., 10., 10., 10., 10., 10., 10., 10., 10., 10., 10.,\n",
       "       10., 10., 10., 10., 10., 10., 10., 10., 10., 10., 10., 10., 10.,\n",
       "       10., 10., 10., 10., 10., 10., 10., 10., 10., 10., 10., 10., 10.,\n",
       "       10., 10., 10., 10., 10., 10., 10., 10., 10., 10., 10., 10., 10.,\n",
       "       10., 10., 10., 10., 10., 10., 10., 10., 10., 10., 10., 10., 10.,\n",
       "       10., 10., 10., 10., 10., 10., 10., 10., 10., 10., 10., 10., 10.,\n",
       "       10., 10., 10., 10., 10., 10., 10., 10., 10., 10., 10., 10., 10.,\n",
       "       10., 10., 10., 10., 10., 10., 10., 10., 10., 10., 10., 10., 10.,\n",
       "       10., 10., 10., 10., 10., 10., 10., 10., 10., 10., 10., 10., 10.,\n",
       "       10., 10., 10., 10., 10., 10., 10., 10., 10., 10., 10., 10., 10.,\n",
       "       10., 10., 10., 10., 10., 10., 10., 10., 10., 10., 10., 10., 10.,\n",
       "       10., 10., 10., 10., 10., 10., 10., 10., 10., 10., 10., 10., 10.,\n",
       "       10., 10., 10., 10., 10., 10., 10., 10., 10., 10., 10., 10., 10.,\n",
       "       10., 10., 10., 10., 10., 10., 10., 10., 10., 10., 10., 10., 10.,\n",
       "       10., 10., 10., 10., 10., 10., 10., 10., 10., 10., 10., 10., 10.,\n",
       "       10., 10., 10., 10., 10., 10., 10., 10., 10., 10., 10., 10., 10.,\n",
       "       10., 10., 10., 10., 10., 10., 10., 10., 10., 10., 10., 10., 10.,\n",
       "       10., 10., 10., 10., 10., 10., 10., 10., 10., 10., 10., 10., 10.,\n",
       "       10., 10., 10., 10., 10., 10., 10., 10., 10., 10., 10., 10., 10.,\n",
       "       10., 10., 10., 10., 10., 10., 10., 10., 10., 10., 10., 10., 10.,\n",
       "       10., 10., 10., 10., 10., 10., 10., 10., 10., 10., 10., 10., 10.,\n",
       "       10., 10., 10., 10., 10., 10., 10., 10., 10., 10., 10., 10., 10.,\n",
       "       10., 10., 10., 10., 10., 10., 10., 10., 10., 10., 10., 10., 10.,\n",
       "       10., 10., 10., 10., 10., 10., 10., 10., 10., 10., 10., 10., 10.,\n",
       "       10., 10., 10., 10., 10., 10., 10., 10., 10., 10., 10., 10., 10.,\n",
       "       10., 10., 10., 10., 10., 10., 10., 10., 10., 10., 10., 10., 10.,\n",
       "       10., 10., 10., 10., 10., 10., 10., 10., 10., 10., 10., 10., 10.,\n",
       "       10., 10., 10., 10., 10., 10., 10., 10., 10., 10., 10., 10., 10.,\n",
       "       10., 10., 10., 10., 10., 10., 10., 10., 10., 10., 10., 10., 10.,\n",
       "       10., 10., 10., 10., 10., 10., 10., 10., 10., 10., 10., 10., 10.,\n",
       "       10., 10., 10., 10., 10., 10., 10., 10., 10., 10., 10., 10., 10.,\n",
       "       10., 10., 10., 10., 10., 10., 10., 10., 10., 10., 10., 10., 10.,\n",
       "       10., 10., 10., 10., 10., 10., 10., 10., 10., 10., 10., 10., 10.,\n",
       "       10., 10., 10., 10., 10., 10., 10., 10., 10., 10., 10., 10., 10.,\n",
       "       10., 10., 10., 10., 10., 10., 10., 10., 10., 10., 10., 10., 10.,\n",
       "       10., 10., 10., 10., 10., 10., 10., 10., 10., 10., 10., 10., 10.,\n",
       "       10., 10., 10., 10., 10., 10., 10., 10., 10., 10., 10., 10., 10.,\n",
       "       10., 10., 10., 10., 10., 10., 10., 10., 10., 10., 10., 10., 10.,\n",
       "       10., 10., 10., 10., 10., 10., 10., 10., 10., 10., 10., 10., 10.,\n",
       "       10., 10., 10., 10., 10., 10., 10., 10., 10., 10., 10., 10., 10.,\n",
       "       10., 10., 10., 10., 10., 10., 10., 10., 10., 10., 10., 10., 10.,\n",
       "       10., 10., 10., 10., 10., 10., 10., 10., 10., 10., 10., 10., 10.,\n",
       "       10., 10., 10., 10., 10., 10., 10., 10., 10., 10., 10., 10., 10.,\n",
       "       10., 10., 10., 10., 10., 10., 10., 10., 10., 10., 10., 10., 10.,\n",
       "       10., 10., 10., 10., 10., 10., 10., 10., 10., 10., 10., 10., 10.,\n",
       "       10., 10., 10., 10., 10., 10., 10., 10., 10., 10., 10., 10., 10.,\n",
       "       10., 10., 10., 10., 10., 10., 10., 10., 10., 10., 10., 10., 10.,\n",
       "       10., 10., 10., 10., 10., 10., 10., 10., 10., 10., 10., 10., 10.,\n",
       "       10., 10., 10., 10., 10., 10., 10., 10., 10., 10., 10., 10., 10.,\n",
       "       10., 10., 10., 10., 10., 10., 10., 10., 10., 10., 10., 10., 10.,\n",
       "       10., 10., 10., 10., 10., 10., 10., 10., 10., 10., 10., 10., 10.,\n",
       "       10., 10., 10., 10., 10., 10., 10., 10., 10., 10., 10., 10., 10.,\n",
       "       10., 10., 10., 10., 10., 10., 10., 10., 10., 10., 10., 10., 10.,\n",
       "       10., 10., 10., 10., 10., 10., 10., 10., 10., 10., 10., 10., 10.,\n",
       "       10., 10., 10., 10., 10., 10., 10., 10., 10., 10., 10., 10., 10.,\n",
       "       10., 10., 10., 10., 10., 10., 10., 10., 10., 10., 10., 10.])"
      ]
     },
     "execution_count": 4,
     "metadata": {},
     "output_type": "execute_result"
    }
   ],
   "source": [
    "import numpy as np\n",
    "Y_pred = np.full_like(Y, 10)\n",
    "\n",
    "Y_pred"
   ]
  },
  {
   "cell_type": "code",
   "execution_count": 8,
   "id": "fd08011e",
   "metadata": {},
   "outputs": [],
   "source": [
    "def compute_mse(Y, c):\n",
    "    Y_pred = np.full_like(Y, c) # creates the array of size Y filled in with value c\n",
    "\n",
    "    mse = np.mean((Y - Y_pred) ** 2)\n",
    "    return mse\n"
   ]
  },
  {
   "cell_type": "markdown",
   "id": "b7141b73",
   "metadata": {},
   "source": [
    "### Step 3 : Find the optimal c, compare it to the mean of you synthetic dataset\n"
   ]
  },
  {
   "cell_type": "code",
   "execution_count": 14,
   "id": "2130f64e",
   "metadata": {},
   "outputs": [
    {
     "data": {
      "text/plain": [
       "np.float64(10.10719553114691)"
      ]
     },
     "execution_count": 14,
     "metadata": {},
     "output_type": "execute_result"
    }
   ],
   "source": [
    "# formula from Step 1 #5 shows that optimal c is equal to the mean of Y\n",
    "optimal_c = np.mean(Y)\n",
    "optimal_c"
   ]
  },
  {
   "cell_type": "code",
   "execution_count": 9,
   "id": "96542b68",
   "metadata": {},
   "outputs": [
    {
     "data": {
      "text/plain": [
       "np.float64(4.046061025584105)"
      ]
     },
     "execution_count": 9,
     "metadata": {},
     "output_type": "execute_result"
    }
   ],
   "source": [
    "# comparing\n",
    "\n",
    "compute_mse(Y, optimal_c)"
   ]
  },
  {
   "cell_type": "markdown",
   "id": "4010751b",
   "metadata": {},
   "source": [
    "### Step 4 : Plot the MSE curve and the optimal c"
   ]
  },
  {
   "cell_type": "code",
   "execution_count": 18,
   "id": "e38ba4fe",
   "metadata": {},
   "outputs": [
    {
     "data": {
      "text/plain": [
       "<matplotlib.lines.Line2D at 0x118094690>"
      ]
     },
     "execution_count": 18,
     "metadata": {},
     "output_type": "execute_result"
    },
    {
     "data": {
      "image/png": "[encoded data removed]",
      "text/plain": [
       "<Figure size 640x480 with 1 Axes>"
      ]
     },
     "metadata": {},
     "output_type": "display_data"
    }
   ],
   "source": [
    "mean_Y = np.mean(Y)\n",
    "c_values = np.linspace(0, 2*mean_Y, 100)\n",
    "mse_values = [compute_mse(Y, c) for c in c_values]\n",
    "\n",
    "\n",
    "plt.plot(c_values, mse_values, label=\"MSE Curve\")\n",
    "\n",
    "plt.xlabel('c')\n",
    "plt.ylabel('Mean Squared Error (MSE)')\n",
    "plt.axvline(x=mean_Y, color='r', linestyle='--', label=f\"Optimal c (mean of Y): {mean_Y:.2f}\")"
   ]
  },
  {
   "cell_type": "markdown",
   "id": "75812aca",
   "metadata": {},
   "source": [
    "# Part 3 : "
   ]
  },
  {
   "cell_type": "markdown",
   "id": "98d6a762",
   "metadata": {},
   "source": [
    "Write your own implementation of splitting the dataset on train and test using shuffling:"
   ]
  },
  {
   "cell_type": "code",
   "execution_count": 19,
   "id": "dd6b45f7",
   "metadata": {},
   "outputs": [],
   "source": [
    "import numpy as np"
   ]
  },
  {
   "cell_type": "code",
   "execution_count": 20,
   "id": "e4a7e159-1c4d-4514-ab76-9fcf047fa4df",
   "metadata": {},
   "outputs": [],
   "source": [
    "def train_test_split(X, y, test_size=0.2):\n",
    "    \"\"\"\n",
    "    Split the dataset into training and testing sets.\n",
    "\n",
    "    Parameters:\n",
    "    X (numpy array): The feature matrix.\n",
    "    y (numpy array): The target labels.\n",
    "    test_size (float): The proportion of the dataset to include in the test split.\n",
    "\n",
    "    Returns:\n",
    "    X_train (numpy array): The training feature matrix.\n",
    "    X_test (numpy array): The testing feature matrix.\n",
    "    y_train (numpy array): The training labels.\n",
    "    y_test (numpy array): The testing labels.\n",
    "    \"\"\"\n",
    "\n",
    "    X = np.array(X)\n",
    "    y = np.array(y)\n",
    "\n",
    "    n_indices = X.shape[0]\n",
    "\n",
    "    permutated_indices = np.random.permutation(n_indices)\n",
    "\n",
    "    n_test = int(test_size*n_indices)\n",
    "\n",
    "    test_indices = permutated_indices[:n_test]\n",
    "    train_indices = permutated_indices[n_test:]\n",
    "\n",
    "    X_train, X_test = X[train_indices], X[test_indices]\n",
    "    y_train, y_test = y[train_indices], y[test_indices]\n",
    "\n",
    "\n",
    "    return X_train, X_test, y_train, y_test\n",
    "\n",
    "\n",
    "# Example Usage\n",
    "X = [[1, 2], [3, 4], [5, 6], [7, 8]]\n",
    "y = [0, 1, 0, 1]\n",
    "\n",
    "X_train, X_test, y_train, y_test = train_test_split(X, y, test_size=0.25)"
   ]
  },
  {
   "cell_type": "markdown",
   "id": "4257ffdc-f52c-4dc7-82a2-e23875811fae",
   "metadata": {},
   "source": [
    "Run the following tests to ensure that your implementation works as expected. <br>\n",
    "<strong>Don't modify the cells</strong>!"
   ]
  },
  {
   "cell_type": "code",
   "execution_count": 21,
   "id": "7dbd7f9b-74a3-4f66-9b09-f9bc778cb27e",
   "metadata": {},
   "outputs": [],
   "source": [
    "def test_basic_split():\n",
    "    X = [[1, 2], [3, 4], [5, 6], [7, 8]]\n",
    "    y = [0, 1, 0, 1]\n",
    "    \n",
    "    X_train, X_test, y_train, y_test = train_test_split(X, y, test_size=0.25)\n",
    "    \n",
    "    # Check if the correct number of samples is in the train and test sets\n",
    "    assert len(X_train) == 3, f\"Expected 3 training samples, got {len(X_train)}\"\n",
    "    assert len(X_test) == 1, f\"Expected 1 test sample, got {len(X_test)}\"\n",
    "    assert len(y_train) == 3, f\"Expected 3 training labels, got {len(y_train)}\"\n",
    "    assert len(y_test) == 1, f\"Expected 1 test label, got {len(y_test)}\"\n",
    "    \n",
    "    print(\"Basic split test passed.\")"
   ]
  },
  {
   "cell_type": "code",
   "execution_count": 22,
   "id": "3c166f7f-8c18-4b72-aa2c-d09b8b6ea2b3",
   "metadata": {},
   "outputs": [],
   "source": [
    "def test_empty_dataset():\n",
    "    X = []\n",
    "    y = []\n",
    "    \n",
    "    X_train, X_test, y_train, y_test = train_test_split(X, y, test_size=0.25)\n",
    "    \n",
    "    # Check if the splits are empty\n",
    "    assert len(X_train) == 0, f\"Expected 0 training samples, got {len(X_train)}\"\n",
    "    assert len(X_test) == 0, f\"Expected 0 test samples, got {len(X_test)}\"\n",
    "    assert len(y_train) == 0, f\"Expected 0 training labels, got {len(y_train)}\"\n",
    "    assert len(y_test) == 0, f\"Expected 0 test labels, got {len(y_test)}\"\n",
    "    \n",
    "    print(\"Empty dataset test passed.\")"
   ]
  },
  {
   "cell_type": "code",
   "execution_count": 23,
   "id": "704d03fe-649c-4cd5-a7f2-fcbd3c0e2178",
   "metadata": {},
   "outputs": [],
   "source": [
    "def test_different_test_size():\n",
    "    X = [[1, 2], [3, 4], [5, 6], [7, 8]]\n",
    "    y = [0, 1, 0, 1]\n",
    "    \n",
    "    # Test with 50% test size\n",
    "    X_train, X_test, y_train, y_test = train_test_split(X, y, test_size=0.5)\n",
    "    assert len(X_test) == 2, f\"Expected 2 test samples, got {len(X_test)}\"\n",
    "    \n",
    "    # Test with 25% test size\n",
    "    X_train, X_test, y_train, y_test = train_test_split(X, y, test_size=0.25)\n",
    "    assert len(X_test) == 1, f\"Expected 1 test sample, got {len(X_test)}\"\n",
    "    \n",
    "    print(\"Different test_size values test passed.\")"
   ]
  },
  {
   "cell_type": "code",
   "execution_count": 24,
   "id": "b3f6cd9a-62cb-4a5f-a225-dc46e9fa3082",
   "metadata": {},
   "outputs": [],
   "source": [
    "from sklearn.datasets import load_iris\n",
    "\n",
    "data = load_iris()\n",
    "X = data.data\n",
    "y = data.target\n",
    "\n",
    "def test_real_dataset():\n",
    "    X_train, X_test, y_train, y_test = train_test_split(X, y, test_size=0.3)\n",
    "    \n",
    "    # Check the size of the train and test sets\n",
    "    assert len(X_train) == 105, f\"Expected 105 training samples, got {len(X_train)}\"\n",
    "    assert len(X_test) == 45, f\"Expected 45 test samples, got {len(X_test)}\"\n",
    "    \n",
    "    print(\"Real dataset test passed.\")\n"
   ]
  },
  {
   "cell_type": "code",
   "execution_count": 25,
   "id": "8e78a79c-fe17-444e-a7da-190fc9aeb2d8",
   "metadata": {},
   "outputs": [
    {
     "name": "stdout",
     "output_type": "stream",
     "text": [
      "Basic split test passed.\n",
      "Empty dataset test passed.\n",
      "Different test_size values test passed.\n",
      "Real dataset test passed.\n"
     ]
    }
   ],
   "source": [
    "def run_tests():\n",
    "    test_basic_split()\n",
    "    test_empty_dataset()\n",
    "    test_different_test_size()\n",
    "    test_real_dataset()\n",
    "\n",
    "run_tests()"
   ]
  }
 ],
 "metadata": {
  "kernelspec": {
   "display_name": "env",
   "language": "python",
   "name": "python3"
  },
  "language_info": {
   "codemirror_mode": {
    "name": "ipython",
    "version": 3
   },
   "file_extension": ".py",
   "mimetype": "text/x-python",
   "name": "python",
   "nbconvert_exporter": "python",
   "pygments_lexer": "ipython3",
   "version": "3.13.2"
  }
 },
 "nbformat": 4,
 "nbformat_minor": 5
}
