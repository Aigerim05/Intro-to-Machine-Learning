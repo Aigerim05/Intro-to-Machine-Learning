{
 "cells": [
  {
   "cell_type": "markdown",
   "metadata": {},
   "source": [
    "# SIS 1"
   ]
  },
  {
   "cell_type": "markdown",
   "metadata": {},
   "source": [
    "# Some theoretical questions"
   ]
  },
  {
   "cell_type": "markdown",
   "metadata": {},
   "source": [
    "## Exercise: Comparing MSE and RMSE\n",
    "\n",
    "Given the following set of true values and predicted values from a regression model:\n",
    "\n",
    "**True values :**  \n",
    "\n",
    "$y_i$ = [500, 300, 800, 400, 6000]\n",
    "\n",
    "**Predicted values :** \n",
    "\n",
    "$\\hat{y_i}$ = [450, 350, 780, 420, 910]"
   ]
  },
  {
   "cell_type": "markdown",
   "metadata": {},
   "source": [
    "1. Calculate on paper the **Mean Squared Error (MSE)** for this set of true and predicted values. \n",
    "\n",
    "   The formula for MSE is:  \n",
    "   MSE = $\\frac{1}{n} \\Sigma_{i=1}^n({y_i}-\\hat{y_i})^2$, where n is the number of data points.\n",
    "\n",
    "2. What does the result quantify ? Explain with your own words.\n",
    "\n",
    "3. What are the disadvantages of this metric ?"
   ]
  },
  {
   "cell_type": "markdown",
   "metadata": {},
   "source": [
    "4. Calculate the **Root Mean Squared Error (RMSE)** for the same values.\n",
    "\n",
    "   The formula for RMSE is:\n",
    "\n",
    "   RMSE = $\\sqrt{\\frac{1}{n} \\Sigma_{i=1}^n({y_i}-\\hat{y_i})^2} = \\sqrt{MSE}$\n",
    "\n",
    "5. Interprete the results.\n",
    "\n",
    "6. What is the difference with MSE ? How does it make it \"better\" ? In your opinion, why is the RMSE generally preferred in some situations over MSE ?"
   ]
  },
  {
   "cell_type": "markdown",
   "metadata": {},
   "source": [
    "## Exercise: Bias Variance decomposition of MSE \n",
    "\n",
    "Given a model $\\hat{f}(X)$ that predicts a value based on some input data, and the true value $Y$, prove that the **Mean Squared Error (MSE)** can be decomposed into two components: **Bias** and **Variance**, i.e. $\\text{MSE} = \\mathbb{E}[(\\hat{Y} - Y)^2] = (\\text{Bias}(\\hat{Y}))^2 + \\text{Var}(\\hat{Y}) $\n",
    "\n",
    "Where:\n",
    "- **Bias** is the difference between the expected prediction and the true value, i.e., $\\text{Bias} = \\mathbb{E}[\\hat{Y}] - Y$.\n",
    "- **Variance** is the expected squared deviation of the predicted value from the expected predicted value, i.e., $\\text{Variance} = \\mathbb{E}[(\\hat{Y} - \\mathbb{E}[\\hat{Y}])^2]$.\n",
    "\n",
    "\n",
    "Hints:\n",
    "- Use the identity : $(\\hat{Y} - Y) = (\\hat{Y} - \\mathbb{E}[\\hat{Y}]) + (\\mathbb{E}[\\hat{Y}] - Y) = (\\hat{Y} - \\mathbb{E}[\\hat{Y}]) + \\text{Bias}(\\hat{Y})$\n",
    "- Start by expanding the expression $(\\hat{Y} - Y)^2$ to isolate the terms involving $\\hat{Y}$ and $Y$."
   ]
  },
  {
   "cell_type": "markdown",
   "metadata": {},
   "source": [
    "# Coding exercise"
   ]
  },
  {
   "cell_type": "code",
   "execution_count": 1,
   "metadata": {},
   "outputs": [],
   "source": [
    "import pandas as pd\n",
    "import numpy as np\n",
    "import matplotlib.pyplot as plt # you can also use seaborn if you prefer\n",
    "\n",
    "from sklearn.ensemble import GradientBoostingRegressor\n",
    "\n",
    "# Import the other necessary library here\n",
    "from sklearn.preprocessing  import OneHotEncoder, LabelEncoder, StandardScaler, MinMaxScaler\n",
    "from sklearn.model_selection import train_test_split\n",
    "\n",
    "import seaborn as sns\n",
    "\n",
    "from sklearn.metrics import mean_squared_error"
   ]
  },
  {
   "cell_type": "code",
   "execution_count": 2,
   "metadata": {},
   "outputs": [],
   "source": [
    "# import the dataset\n",
    "df = pd.read_csv(\"cars.csv\")\n",
    "df = df.fillna(value=float(0)) # replace NaN by float(0) (don't do this automatically in future projects, it can be source of under or overfitting. It should be done precociously)"
   ]
  },
  {
   "cell_type": "markdown",
   "metadata": {},
   "source": [
    "### 1. Analyse your dataset. How many features and columns do we have ?"
   ]
  },
  {
   "cell_type": "code",
   "execution_count": 4,
   "metadata": {},
   "outputs": [
    {
     "data": {
      "text/plain": [
       "12"
      ]
     },
     "execution_count": 4,
     "metadata": {},
     "output_type": "execute_result"
    }
   ],
   "source": [
    "# the number of columns (features): \n",
    "df.shape[1] "
   ]
  },
  {
   "cell_type": "markdown",
   "metadata": {},
   "source": [
    "### 2. What categorical variables are ordinal or nominal ? Encode them using OHE and Label encoder from SKLearn. "
   ]
  },
  {
   "cell_type": "markdown",
   "metadata": {},
   "source": [
    "ordinal (can be ordered): owner (first, second, third)\n",
    "\n",
    "nominal: fuel (diesel, pertrol, LPG, CNG), seller_type (dealer, individual, trustmark dealer), transmission (manual, automatic)"
   ]
  },
  {
   "cell_type": "code",
   "execution_count": 4,
   "metadata": {},
   "outputs": [
    {
     "data": {
      "text/html": [
       "<div>\n",
       "<style scoped>\n",
       "    .dataframe tbody tr th:only-of-type {\n",
       "        vertical-align: middle;\n",
       "    }\n",
       "\n",
       "    .dataframe tbody tr th {\n",
       "        vertical-align: top;\n",
       "    }\n",
       "\n",
       "    .dataframe thead th {\n",
       "        text-align: right;\n",
       "    }\n",
       "</style>\n",
       "<table border=\"1\" class=\"dataframe\">\n",
       "  <thead>\n",
       "    <tr style=\"text-align: right;\">\n",
       "      <th></th>\n",
       "      <th>fuel_CNG</th>\n",
       "      <th>fuel_Diesel</th>\n",
       "      <th>fuel_LPG</th>\n",
       "      <th>fuel_Petrol</th>\n",
       "      <th>seller_type_Dealer</th>\n",
       "      <th>seller_type_Individual</th>\n",
       "      <th>seller_type_Trustmark Dealer</th>\n",
       "      <th>transmission_Automatic</th>\n",
       "      <th>transmission_Manual</th>\n",
       "    </tr>\n",
       "  </thead>\n",
       "  <tbody>\n",
       "    <tr>\n",
       "      <th>0</th>\n",
       "      <td>0</td>\n",
       "      <td>1</td>\n",
       "      <td>0</td>\n",
       "      <td>0</td>\n",
       "      <td>0</td>\n",
       "      <td>1</td>\n",
       "      <td>0</td>\n",
       "      <td>0</td>\n",
       "      <td>1</td>\n",
       "    </tr>\n",
       "    <tr>\n",
       "      <th>1</th>\n",
       "      <td>0</td>\n",
       "      <td>1</td>\n",
       "      <td>0</td>\n",
       "      <td>0</td>\n",
       "      <td>0</td>\n",
       "      <td>1</td>\n",
       "      <td>0</td>\n",
       "      <td>0</td>\n",
       "      <td>1</td>\n",
       "    </tr>\n",
       "    <tr>\n",
       "      <th>2</th>\n",
       "      <td>0</td>\n",
       "      <td>0</td>\n",
       "      <td>0</td>\n",
       "      <td>1</td>\n",
       "      <td>0</td>\n",
       "      <td>1</td>\n",
       "      <td>0</td>\n",
       "      <td>0</td>\n",
       "      <td>1</td>\n",
       "    </tr>\n",
       "    <tr>\n",
       "      <th>3</th>\n",
       "      <td>0</td>\n",
       "      <td>1</td>\n",
       "      <td>0</td>\n",
       "      <td>0</td>\n",
       "      <td>0</td>\n",
       "      <td>1</td>\n",
       "      <td>0</td>\n",
       "      <td>0</td>\n",
       "      <td>1</td>\n",
       "    </tr>\n",
       "    <tr>\n",
       "      <th>4</th>\n",
       "      <td>0</td>\n",
       "      <td>0</td>\n",
       "      <td>0</td>\n",
       "      <td>1</td>\n",
       "      <td>0</td>\n",
       "      <td>1</td>\n",
       "      <td>0</td>\n",
       "      <td>0</td>\n",
       "      <td>1</td>\n",
       "    </tr>\n",
       "    <tr>\n",
       "      <th>...</th>\n",
       "      <td>...</td>\n",
       "      <td>...</td>\n",
       "      <td>...</td>\n",
       "      <td>...</td>\n",
       "      <td>...</td>\n",
       "      <td>...</td>\n",
       "      <td>...</td>\n",
       "      <td>...</td>\n",
       "      <td>...</td>\n",
       "    </tr>\n",
       "    <tr>\n",
       "      <th>8123</th>\n",
       "      <td>0</td>\n",
       "      <td>0</td>\n",
       "      <td>0</td>\n",
       "      <td>1</td>\n",
       "      <td>0</td>\n",
       "      <td>1</td>\n",
       "      <td>0</td>\n",
       "      <td>0</td>\n",
       "      <td>1</td>\n",
       "    </tr>\n",
       "    <tr>\n",
       "      <th>8124</th>\n",
       "      <td>0</td>\n",
       "      <td>1</td>\n",
       "      <td>0</td>\n",
       "      <td>0</td>\n",
       "      <td>0</td>\n",
       "      <td>1</td>\n",
       "      <td>0</td>\n",
       "      <td>0</td>\n",
       "      <td>1</td>\n",
       "    </tr>\n",
       "    <tr>\n",
       "      <th>8125</th>\n",
       "      <td>0</td>\n",
       "      <td>1</td>\n",
       "      <td>0</td>\n",
       "      <td>0</td>\n",
       "      <td>0</td>\n",
       "      <td>1</td>\n",
       "      <td>0</td>\n",
       "      <td>0</td>\n",
       "      <td>1</td>\n",
       "    </tr>\n",
       "    <tr>\n",
       "      <th>8126</th>\n",
       "      <td>0</td>\n",
       "      <td>1</td>\n",
       "      <td>0</td>\n",
       "      <td>0</td>\n",
       "      <td>0</td>\n",
       "      <td>1</td>\n",
       "      <td>0</td>\n",
       "      <td>0</td>\n",
       "      <td>1</td>\n",
       "    </tr>\n",
       "    <tr>\n",
       "      <th>8127</th>\n",
       "      <td>0</td>\n",
       "      <td>1</td>\n",
       "      <td>0</td>\n",
       "      <td>0</td>\n",
       "      <td>0</td>\n",
       "      <td>1</td>\n",
       "      <td>0</td>\n",
       "      <td>0</td>\n",
       "      <td>1</td>\n",
       "    </tr>\n",
       "  </tbody>\n",
       "</table>\n",
       "<p>8128 rows × 9 columns</p>\n",
       "</div>"
      ],
      "text/plain": [
       "      fuel_CNG  fuel_Diesel  fuel_LPG  fuel_Petrol  seller_type_Dealer  \\\n",
       "0            0            1         0            0                   0   \n",
       "1            0            1         0            0                   0   \n",
       "2            0            0         0            1                   0   \n",
       "3            0            1         0            0                   0   \n",
       "4            0            0         0            1                   0   \n",
       "...        ...          ...       ...          ...                 ...   \n",
       "8123         0            0         0            1                   0   \n",
       "8124         0            1         0            0                   0   \n",
       "8125         0            1         0            0                   0   \n",
       "8126         0            1         0            0                   0   \n",
       "8127         0            1         0            0                   0   \n",
       "\n",
       "      seller_type_Individual  seller_type_Trustmark Dealer  \\\n",
       "0                          1                             0   \n",
       "1                          1                             0   \n",
       "2                          1                             0   \n",
       "3                          1                             0   \n",
       "4                          1                             0   \n",
       "...                      ...                           ...   \n",
       "8123                       1                             0   \n",
       "8124                       1                             0   \n",
       "8125                       1                             0   \n",
       "8126                       1                             0   \n",
       "8127                       1                             0   \n",
       "\n",
       "      transmission_Automatic  transmission_Manual  \n",
       "0                          0                    1  \n",
       "1                          0                    1  \n",
       "2                          0                    1  \n",
       "3                          0                    1  \n",
       "4                          0                    1  \n",
       "...                      ...                  ...  \n",
       "8123                       0                    1  \n",
       "8124                       0                    1  \n",
       "8125                       0                    1  \n",
       "8126                       0                    1  \n",
       "8127                       0                    1  \n",
       "\n",
       "[8128 rows x 9 columns]"
      ]
     },
     "execution_count": 4,
     "metadata": {},
     "output_type": "execute_result"
    }
   ],
   "source": [
    "# OHE encoder for nominal variables: \n",
    "# fuel (diesel, pertrol, LPG, CNG), \n",
    "# seller_type (dealer, individual, trustmark dealer), \n",
    "# transmission (manual, automatic)\n",
    "\n",
    "ohe = OneHotEncoder(handle_unknown='ignore', sparse_output=False).set_output(transform='pandas')\n",
    "\n",
    "ohetransform = ohe.fit_transform(df[['fuel', 'seller_type', 'transmission']])\n",
    "\n",
    "ohetransform  = ohetransform.astype(int)\n",
    "\n",
    "ohetransform "
   ]
  },
  {
   "cell_type": "code",
   "execution_count": 5,
   "metadata": {},
   "outputs": [
    {
     "data": {
      "text/html": [
       "<div>\n",
       "<style scoped>\n",
       "    .dataframe tbody tr th:only-of-type {\n",
       "        vertical-align: middle;\n",
       "    }\n",
       "\n",
       "    .dataframe tbody tr th {\n",
       "        vertical-align: top;\n",
       "    }\n",
       "\n",
       "    .dataframe thead th {\n",
       "        text-align: right;\n",
       "    }\n",
       "</style>\n",
       "<table border=\"1\" class=\"dataframe\">\n",
       "  <thead>\n",
       "    <tr style=\"text-align: right;\">\n",
       "      <th></th>\n",
       "      <th>name</th>\n",
       "      <th>year</th>\n",
       "      <th>selling_price</th>\n",
       "      <th>km_driven</th>\n",
       "      <th>fuel</th>\n",
       "      <th>seller_type</th>\n",
       "      <th>transmission</th>\n",
       "      <th>owner</th>\n",
       "      <th>mileage</th>\n",
       "      <th>engine</th>\n",
       "      <th>max_power</th>\n",
       "      <th>seats</th>\n",
       "    </tr>\n",
       "  </thead>\n",
       "  <tbody>\n",
       "    <tr>\n",
       "      <th>0</th>\n",
       "      <td>Maruti Swift Dzire VDI</td>\n",
       "      <td>2014</td>\n",
       "      <td>450000</td>\n",
       "      <td>145500</td>\n",
       "      <td>Diesel</td>\n",
       "      <td>Individual</td>\n",
       "      <td>Manual</td>\n",
       "      <td>0</td>\n",
       "      <td>23.40</td>\n",
       "      <td>1248.0</td>\n",
       "      <td>74.00</td>\n",
       "      <td>5.0</td>\n",
       "    </tr>\n",
       "    <tr>\n",
       "      <th>1</th>\n",
       "      <td>Skoda Rapid 1.5 TDI Ambition</td>\n",
       "      <td>2014</td>\n",
       "      <td>370000</td>\n",
       "      <td>120000</td>\n",
       "      <td>Diesel</td>\n",
       "      <td>Individual</td>\n",
       "      <td>Manual</td>\n",
       "      <td>2</td>\n",
       "      <td>21.14</td>\n",
       "      <td>1498.0</td>\n",
       "      <td>103.52</td>\n",
       "      <td>5.0</td>\n",
       "    </tr>\n",
       "    <tr>\n",
       "      <th>2</th>\n",
       "      <td>Honda City 2017-2020 EXi</td>\n",
       "      <td>2006</td>\n",
       "      <td>158000</td>\n",
       "      <td>140000</td>\n",
       "      <td>Petrol</td>\n",
       "      <td>Individual</td>\n",
       "      <td>Manual</td>\n",
       "      <td>4</td>\n",
       "      <td>17.70</td>\n",
       "      <td>1497.0</td>\n",
       "      <td>78.00</td>\n",
       "      <td>5.0</td>\n",
       "    </tr>\n",
       "    <tr>\n",
       "      <th>3</th>\n",
       "      <td>Hyundai i20 Sportz Diesel</td>\n",
       "      <td>2010</td>\n",
       "      <td>225000</td>\n",
       "      <td>127000</td>\n",
       "      <td>Diesel</td>\n",
       "      <td>Individual</td>\n",
       "      <td>Manual</td>\n",
       "      <td>0</td>\n",
       "      <td>23.00</td>\n",
       "      <td>1396.0</td>\n",
       "      <td>90.00</td>\n",
       "      <td>5.0</td>\n",
       "    </tr>\n",
       "    <tr>\n",
       "      <th>4</th>\n",
       "      <td>Maruti Swift VXI BSIII</td>\n",
       "      <td>2007</td>\n",
       "      <td>130000</td>\n",
       "      <td>120000</td>\n",
       "      <td>Petrol</td>\n",
       "      <td>Individual</td>\n",
       "      <td>Manual</td>\n",
       "      <td>0</td>\n",
       "      <td>16.10</td>\n",
       "      <td>1298.0</td>\n",
       "      <td>88.20</td>\n",
       "      <td>5.0</td>\n",
       "    </tr>\n",
       "  </tbody>\n",
       "</table>\n",
       "</div>"
      ],
      "text/plain": [
       "                           name  year  selling_price  km_driven    fuel  \\\n",
       "0        Maruti Swift Dzire VDI  2014         450000     145500  Diesel   \n",
       "1  Skoda Rapid 1.5 TDI Ambition  2014         370000     120000  Diesel   \n",
       "2      Honda City 2017-2020 EXi  2006         158000     140000  Petrol   \n",
       "3     Hyundai i20 Sportz Diesel  2010         225000     127000  Diesel   \n",
       "4        Maruti Swift VXI BSIII  2007         130000     120000  Petrol   \n",
       "\n",
       "  seller_type transmission  owner  mileage  engine  max_power  seats  \n",
       "0  Individual       Manual      0    23.40  1248.0      74.00    5.0  \n",
       "1  Individual       Manual      2    21.14  1498.0     103.52    5.0  \n",
       "2  Individual       Manual      4    17.70  1497.0      78.00    5.0  \n",
       "3  Individual       Manual      0    23.00  1396.0      90.00    5.0  \n",
       "4  Individual       Manual      0    16.10  1298.0      88.20    5.0  "
      ]
     },
     "execution_count": 5,
     "metadata": {},
     "output_type": "execute_result"
    }
   ],
   "source": [
    "# Label encoder for ordinal variables - owner\n",
    "\n",
    "encoder = LabelEncoder()\n",
    "\n",
    "df['owner'] = encoder.fit_transform(df['owner'])\n",
    "\n",
    "df.head(5)\n"
   ]
  },
  {
   "cell_type": "markdown",
   "metadata": {},
   "source": [
    "### 3. Plot the distributions of Year, km_driven and mileage data. What could be a problem for convergence ?\n"
   ]
  },
  {
   "cell_type": "code",
   "execution_count": null,
   "metadata": {},
   "outputs": [],
   "source": [
    "# import the dataset\n",
    "df = pd.read_csv(\"cars.csv\")\n",
    "df = df.fillna(value=float(0)) # replace NaN by float(0) (don't do this automatically in future projects, it can be source of under or overfitting. It should be done precociously)"
   ]
  },
  {
   "cell_type": "code",
   "execution_count": 73,
   "metadata": {},
   "outputs": [
    {
     "data": {
      "text/plain": [
       "<Axes: xlabel='year', ylabel='Count'>"
      ]
     },
     "execution_count": 73,
     "metadata": {},
     "output_type": "execute_result"
    },
    {
     "data": {
      "image/png": "[encoded data removed]",
      "text/plain": [
       "<Figure size 640x480 with 1 Axes>"
      ]
     },
     "metadata": {},
     "output_type": "display_data"
    }
   ],
   "source": [
    "# plotting year\n",
    "\n",
    "sns.histplot(df['year'])"
   ]
  },
  {
   "cell_type": "code",
   "execution_count": 9,
   "metadata": {},
   "outputs": [
    {
     "data": {
      "text/plain": [
       "<Axes: ylabel='Count'>"
      ]
     },
     "execution_count": 9,
     "metadata": {},
     "output_type": "execute_result"
    },
    {
     "data": {
      "image/png": "[encoded data removed]",
      "text/plain": [
       "<Figure size 640x480 with 1 Axes>"
      ]
     },
     "metadata": {},
     "output_type": "display_data"
    }
   ],
   "source": [
    "min_max_scaler = MinMaxScaler()\n",
    "x_scaled = min_max_scaler.fit_transform(df[['km_driven']])\n",
    "\n",
    "sns.histplot(x_scaled)"
   ]
  },
  {
   "cell_type": "code",
   "execution_count": 78,
   "metadata": {},
   "outputs": [
    {
     "data": {
      "text/plain": [
       "<Axes: xlabel='mileage', ylabel='Count'>"
      ]
     },
     "execution_count": 78,
     "metadata": {},
     "output_type": "execute_result"
    },
    {
     "data": {
      "image/png": "[encoded data removed]",
      "text/plain": [
       "<Figure size 640x480 with 1 Axes>"
      ]
     },
     "metadata": {},
     "output_type": "display_data"
    }
   ],
   "source": [
    "sns.histplot(df['mileage'])"
   ]
  },
  {
   "cell_type": "markdown",
   "metadata": {},
   "source": [
    "### 4. Scale those three numerical features, use whatever scaler you want"
   ]
  },
  {
   "cell_type": "code",
   "execution_count": 6,
   "metadata": {},
   "outputs": [
    {
     "data": {
      "text/plain": [
       "count    8.128000e+03\n",
       "mean    -4.862252e-15\n",
       "std      1.000062e+00\n",
       "min     -7.617213e+00\n",
       "25%     -6.933756e-01\n",
       "50%      2.957441e-01\n",
       "75%      7.903040e-01\n",
       "max      1.532144e+00\n",
       "Name: year, dtype: float64"
      ]
     },
     "execution_count": 6,
     "metadata": {},
     "output_type": "execute_result"
    }
   ],
   "source": [
    "scaler = StandardScaler()\n",
    "\n",
    "df['year'] = scaler.fit_transform(df['year'].values.reshape(-1, 1))\n",
    "\n",
    "df['year'].describe()"
   ]
  },
  {
   "cell_type": "code",
   "execution_count": 7,
   "metadata": {},
   "outputs": [
    {
     "data": {
      "text/html": [
       "<div>\n",
       "<style scoped>\n",
       "    .dataframe tbody tr th:only-of-type {\n",
       "        vertical-align: middle;\n",
       "    }\n",
       "\n",
       "    .dataframe tbody tr th {\n",
       "        vertical-align: top;\n",
       "    }\n",
       "\n",
       "    .dataframe thead th {\n",
       "        text-align: right;\n",
       "    }\n",
       "</style>\n",
       "<table border=\"1\" class=\"dataframe\">\n",
       "  <thead>\n",
       "    <tr style=\"text-align: right;\">\n",
       "      <th></th>\n",
       "      <th>name</th>\n",
       "      <th>year</th>\n",
       "      <th>selling_price</th>\n",
       "      <th>km_driven</th>\n",
       "      <th>fuel</th>\n",
       "      <th>seller_type</th>\n",
       "      <th>transmission</th>\n",
       "      <th>owner</th>\n",
       "      <th>mileage</th>\n",
       "      <th>engine</th>\n",
       "      <th>max_power</th>\n",
       "      <th>seats</th>\n",
       "    </tr>\n",
       "  </thead>\n",
       "  <tbody>\n",
       "    <tr>\n",
       "      <th>0</th>\n",
       "      <td>Maruti Swift Dzire VDI</td>\n",
       "      <td>0.048464</td>\n",
       "      <td>450000</td>\n",
       "      <td>145500</td>\n",
       "      <td>Diesel</td>\n",
       "      <td>Individual</td>\n",
       "      <td>Manual</td>\n",
       "      <td>0</td>\n",
       "      <td>23.40</td>\n",
       "      <td>1248.0</td>\n",
       "      <td>74.00</td>\n",
       "      <td>5.0</td>\n",
       "    </tr>\n",
       "    <tr>\n",
       "      <th>1</th>\n",
       "      <td>Skoda Rapid 1.5 TDI Ambition</td>\n",
       "      <td>0.048464</td>\n",
       "      <td>370000</td>\n",
       "      <td>120000</td>\n",
       "      <td>Diesel</td>\n",
       "      <td>Individual</td>\n",
       "      <td>Manual</td>\n",
       "      <td>2</td>\n",
       "      <td>21.14</td>\n",
       "      <td>1498.0</td>\n",
       "      <td>103.52</td>\n",
       "      <td>5.0</td>\n",
       "    </tr>\n",
       "    <tr>\n",
       "      <th>2</th>\n",
       "      <td>Honda City 2017-2020 EXi</td>\n",
       "      <td>-1.929775</td>\n",
       "      <td>158000</td>\n",
       "      <td>140000</td>\n",
       "      <td>Petrol</td>\n",
       "      <td>Individual</td>\n",
       "      <td>Manual</td>\n",
       "      <td>4</td>\n",
       "      <td>17.70</td>\n",
       "      <td>1497.0</td>\n",
       "      <td>78.00</td>\n",
       "      <td>5.0</td>\n",
       "    </tr>\n",
       "    <tr>\n",
       "      <th>3</th>\n",
       "      <td>Hyundai i20 Sportz Diesel</td>\n",
       "      <td>-0.940656</td>\n",
       "      <td>225000</td>\n",
       "      <td>127000</td>\n",
       "      <td>Diesel</td>\n",
       "      <td>Individual</td>\n",
       "      <td>Manual</td>\n",
       "      <td>0</td>\n",
       "      <td>23.00</td>\n",
       "      <td>1396.0</td>\n",
       "      <td>90.00</td>\n",
       "      <td>5.0</td>\n",
       "    </tr>\n",
       "    <tr>\n",
       "      <th>4</th>\n",
       "      <td>Maruti Swift VXI BSIII</td>\n",
       "      <td>-1.682495</td>\n",
       "      <td>130000</td>\n",
       "      <td>120000</td>\n",
       "      <td>Petrol</td>\n",
       "      <td>Individual</td>\n",
       "      <td>Manual</td>\n",
       "      <td>0</td>\n",
       "      <td>16.10</td>\n",
       "      <td>1298.0</td>\n",
       "      <td>88.20</td>\n",
       "      <td>5.0</td>\n",
       "    </tr>\n",
       "    <tr>\n",
       "      <th>...</th>\n",
       "      <td>...</td>\n",
       "      <td>...</td>\n",
       "      <td>...</td>\n",
       "      <td>...</td>\n",
       "      <td>...</td>\n",
       "      <td>...</td>\n",
       "      <td>...</td>\n",
       "      <td>...</td>\n",
       "      <td>...</td>\n",
       "      <td>...</td>\n",
       "      <td>...</td>\n",
       "      <td>...</td>\n",
       "    </tr>\n",
       "    <tr>\n",
       "      <th>8123</th>\n",
       "      <td>Hyundai i20 Magna</td>\n",
       "      <td>-0.198816</td>\n",
       "      <td>320000</td>\n",
       "      <td>110000</td>\n",
       "      <td>Petrol</td>\n",
       "      <td>Individual</td>\n",
       "      <td>Manual</td>\n",
       "      <td>0</td>\n",
       "      <td>18.50</td>\n",
       "      <td>1197.0</td>\n",
       "      <td>82.85</td>\n",
       "      <td>5.0</td>\n",
       "    </tr>\n",
       "    <tr>\n",
       "      <th>8124</th>\n",
       "      <td>Hyundai Verna CRDi SX</td>\n",
       "      <td>-1.682495</td>\n",
       "      <td>135000</td>\n",
       "      <td>119000</td>\n",
       "      <td>Diesel</td>\n",
       "      <td>Individual</td>\n",
       "      <td>Manual</td>\n",
       "      <td>1</td>\n",
       "      <td>16.80</td>\n",
       "      <td>1493.0</td>\n",
       "      <td>110.00</td>\n",
       "      <td>5.0</td>\n",
       "    </tr>\n",
       "    <tr>\n",
       "      <th>8125</th>\n",
       "      <td>Maruti Swift Dzire ZDi</td>\n",
       "      <td>-1.187935</td>\n",
       "      <td>382000</td>\n",
       "      <td>120000</td>\n",
       "      <td>Diesel</td>\n",
       "      <td>Individual</td>\n",
       "      <td>Manual</td>\n",
       "      <td>0</td>\n",
       "      <td>19.30</td>\n",
       "      <td>1248.0</td>\n",
       "      <td>73.90</td>\n",
       "      <td>5.0</td>\n",
       "    </tr>\n",
       "    <tr>\n",
       "      <th>8126</th>\n",
       "      <td>Tata Indigo CR4</td>\n",
       "      <td>-0.198816</td>\n",
       "      <td>290000</td>\n",
       "      <td>25000</td>\n",
       "      <td>Diesel</td>\n",
       "      <td>Individual</td>\n",
       "      <td>Manual</td>\n",
       "      <td>0</td>\n",
       "      <td>23.57</td>\n",
       "      <td>1396.0</td>\n",
       "      <td>70.00</td>\n",
       "      <td>5.0</td>\n",
       "    </tr>\n",
       "    <tr>\n",
       "      <th>8127</th>\n",
       "      <td>Tata Indigo CR4</td>\n",
       "      <td>-0.198816</td>\n",
       "      <td>290000</td>\n",
       "      <td>25000</td>\n",
       "      <td>Diesel</td>\n",
       "      <td>Individual</td>\n",
       "      <td>Manual</td>\n",
       "      <td>0</td>\n",
       "      <td>23.57</td>\n",
       "      <td>1396.0</td>\n",
       "      <td>70.00</td>\n",
       "      <td>5.0</td>\n",
       "    </tr>\n",
       "  </tbody>\n",
       "</table>\n",
       "<p>8128 rows × 12 columns</p>\n",
       "</div>"
      ],
      "text/plain": [
       "                              name      year  selling_price  km_driven  \\\n",
       "0           Maruti Swift Dzire VDI  0.048464         450000     145500   \n",
       "1     Skoda Rapid 1.5 TDI Ambition  0.048464         370000     120000   \n",
       "2         Honda City 2017-2020 EXi -1.929775         158000     140000   \n",
       "3        Hyundai i20 Sportz Diesel -0.940656         225000     127000   \n",
       "4           Maruti Swift VXI BSIII -1.682495         130000     120000   \n",
       "...                            ...       ...            ...        ...   \n",
       "8123             Hyundai i20 Magna -0.198816         320000     110000   \n",
       "8124         Hyundai Verna CRDi SX -1.682495         135000     119000   \n",
       "8125        Maruti Swift Dzire ZDi -1.187935         382000     120000   \n",
       "8126               Tata Indigo CR4 -0.198816         290000      25000   \n",
       "8127               Tata Indigo CR4 -0.198816         290000      25000   \n",
       "\n",
       "        fuel seller_type transmission  owner  mileage  engine  max_power  \\\n",
       "0     Diesel  Individual       Manual      0    23.40  1248.0      74.00   \n",
       "1     Diesel  Individual       Manual      2    21.14  1498.0     103.52   \n",
       "2     Petrol  Individual       Manual      4    17.70  1497.0      78.00   \n",
       "3     Diesel  Individual       Manual      0    23.00  1396.0      90.00   \n",
       "4     Petrol  Individual       Manual      0    16.10  1298.0      88.20   \n",
       "...      ...         ...          ...    ...      ...     ...        ...   \n",
       "8123  Petrol  Individual       Manual      0    18.50  1197.0      82.85   \n",
       "8124  Diesel  Individual       Manual      1    16.80  1493.0     110.00   \n",
       "8125  Diesel  Individual       Manual      0    19.30  1248.0      73.90   \n",
       "8126  Diesel  Individual       Manual      0    23.57  1396.0      70.00   \n",
       "8127  Diesel  Individual       Manual      0    23.57  1396.0      70.00   \n",
       "\n",
       "      seats  \n",
       "0       5.0  \n",
       "1       5.0  \n",
       "2       5.0  \n",
       "3       5.0  \n",
       "4       5.0  \n",
       "...     ...  \n",
       "8123    5.0  \n",
       "8124    5.0  \n",
       "8125    5.0  \n",
       "8126    5.0  \n",
       "8127    5.0  \n",
       "\n",
       "[8128 rows x 12 columns]"
      ]
     },
     "execution_count": 7,
     "metadata": {},
     "output_type": "execute_result"
    }
   ],
   "source": [
    "df"
   ]
  },
  {
   "cell_type": "code",
   "execution_count": 8,
   "metadata": {},
   "outputs": [
    {
     "data": {
      "text/plain": [
       "count    8.128000e+03\n",
       "mean     5.507406e-16\n",
       "std      1.000062e+00\n",
       "min     -3.833895e+00\n",
       "25%     -4.937388e-01\n",
       "50%      5.769527e-02\n",
       "75%      6.327212e-01\n",
       "max      4.491397e+00\n",
       "Name: mileage, dtype: float64"
      ]
     },
     "execution_count": 8,
     "metadata": {},
     "output_type": "execute_result"
    }
   ],
   "source": [
    "scaler = StandardScaler()\n",
    "\n",
    "df['mileage'] = scaler.fit_transform(df['mileage'].values.reshape(-1, 1))\n",
    "\n",
    "df['mileage'].describe()\n"
   ]
  },
  {
   "cell_type": "code",
   "execution_count": 9,
   "metadata": {},
   "outputs": [
    {
     "data": {
      "text/plain": [
       "count    8128.000000\n",
       "mean        0.029578\n",
       "std         0.023957\n",
       "min         0.000000\n",
       "25%         0.014827\n",
       "50%         0.025418\n",
       "75%         0.041517\n",
       "max         1.000000\n",
       "Name: km_driven, dtype: float64"
      ]
     },
     "execution_count": 9,
     "metadata": {},
     "output_type": "execute_result"
    }
   ],
   "source": [
    "min_max_scaler = MinMaxScaler()\n",
    "\n",
    "x_scaled = min_max_scaler.fit_transform(df[['km_driven']])\n",
    "df['km_driven'] = x_scaled \n",
    "df['km_driven'].describe()\n"
   ]
  },
  {
   "cell_type": "markdown",
   "metadata": {},
   "source": [
    "### 5. Select Features and Target Variable\n",
    "Separate X's to y"
   ]
  },
  {
   "cell_type": "code",
   "execution_count": 10,
   "metadata": {},
   "outputs": [],
   "source": [
    "X = df[['year', 'km_driven', 'fuel', 'seller_type', 'transmission', 'owner', 'mileage', 'engine', 'max_power', 'seats']]\n",
    "y = df['selling_price']"
   ]
  },
  {
   "cell_type": "markdown",
   "metadata": {},
   "source": [
    "### 6. Plot the distribution of the Target variable "
   ]
  },
  {
   "cell_type": "code",
   "execution_count": 160,
   "metadata": {},
   "outputs": [
    {
     "data": {
      "text/plain": [
       "<Axes: xlabel='selling_price', ylabel='Count'>"
      ]
     },
     "execution_count": 160,
     "metadata": {},
     "output_type": "execute_result"
    },
    {
     "data": {
      "image/png": "[encoded data removed]",
      "text/plain": [
       "<Figure size 640x480 with 1 Axes>"
      ]
     },
     "metadata": {},
     "output_type": "display_data"
    }
   ],
   "source": [
    "sns.histplot(df['selling_price'])\n",
    "# sns.kdeplot(y, fill=True, color='red')"
   ]
  },
  {
   "cell_type": "markdown",
   "metadata": {},
   "source": [
    "### 7. Split the Data\n",
    "Split the dataset into training and testing sets. You should then have four dataset, X_train, X_test, y_train and y_test"
   ]
  },
  {
   "cell_type": "code",
   "execution_count": 40,
   "metadata": {},
   "outputs": [],
   "source": [
    "\n",
    "X_train, X_test, y_train, y_test = train_test_split(X,y , random_state=104,test_size=0.25, shuffle=True)\n"
   ]
  },
  {
   "cell_type": "code",
   "execution_count": 150,
   "metadata": {},
   "outputs": [
    {
     "data": {
      "text/plain": [
       "True"
      ]
     },
     "execution_count": 150,
     "metadata": {},
     "output_type": "execute_result"
    }
   ],
   "source": [
    "X.shape[0] * 0.75 == X_train.shape[0]"
   ]
  },
  {
   "cell_type": "code",
   "execution_count": 152,
   "metadata": {},
   "outputs": [
    {
     "data": {
      "text/plain": [
       "True"
      ]
     },
     "execution_count": 152,
     "metadata": {},
     "output_type": "execute_result"
    }
   ],
   "source": [
    "X.shape[0] * 0.25 == X_test.shape[0]"
   ]
  },
  {
   "cell_type": "code",
   "execution_count": 154,
   "metadata": {},
   "outputs": [
    {
     "data": {
      "text/plain": [
       "True"
      ]
     },
     "execution_count": 154,
     "metadata": {},
     "output_type": "execute_result"
    }
   ],
   "source": [
    "y.shape[0] * 0.75 == y_train.shape[0]"
   ]
  },
  {
   "cell_type": "code",
   "execution_count": 155,
   "metadata": {},
   "outputs": [
    {
     "data": {
      "text/plain": [
       "True"
      ]
     },
     "execution_count": 155,
     "metadata": {},
     "output_type": "execute_result"
    }
   ],
   "source": [
    "y.shape[0] * 0.25 == y_test.shape[0]"
   ]
  },
  {
   "cell_type": "markdown",
   "metadata": {},
   "source": [
    "### 8. Train a Gradient Boosting Model\n",
    "\n",
    "The following code trains an ensemble Model. The class ```GradientBoostingRegressor(*params)```  setup the model and the function ```fit(X_train, y_train)``` trains and fits it.\n",
    "- Use the function ```Predict()``` to predict y, both with your train and test datasets. (have a look at SKlearn documentation to use it)\n",
    "- Compute the train and test Mean Squared Errors.\n"
   ]
  },
  {
   "cell_type": "code",
   "execution_count": 91,
   "metadata": {},
   "outputs": [],
   "source": [
    "# import the dataset\n",
    "df = pd.read_csv(\"cars.csv\")\n",
    "df = df.fillna(value=float(0)) # replace NaN by float(0) (don't do this automatically in future projects, it can be source of under or overfitting. It should be done precociously)"
   ]
  },
  {
   "cell_type": "code",
   "execution_count": 92,
   "metadata": {},
   "outputs": [],
   "source": [
    "# dropping column 'name' for convenience\n",
    "\n",
    "df.drop('name', axis=1, inplace=True)"
   ]
  },
  {
   "cell_type": "code",
   "execution_count": 93,
   "metadata": {},
   "outputs": [],
   "source": [
    "# preparing data (categorical values -> numeric values using OHE)\n",
    "\n",
    "ohe = OneHotEncoder(handle_unknown='ignore', sparse_output=False).set_output(transform='pandas')\n",
    "\n",
    "ohetransform = ohe.fit_transform(df[['fuel', 'seller_type', 'transmission', 'owner']])\n",
    "ohetransform  = ohetransform.astype(int)\n",
    "\n",
    "df = pd.concat([df, ohetransform], axis=1)\n",
    "\n",
    "# dropping original columns (dummy)\n",
    "df = df.drop(['fuel', 'seller_type', 'transmission', 'owner'], axis=1)\n"
   ]
  },
  {
   "cell_type": "code",
   "execution_count": 94,
   "metadata": {},
   "outputs": [
    {
     "data": {
      "text/plain": [
       "Index(['year', 'selling_price', 'km_driven', 'mileage', 'engine', 'max_power',\n",
       "       'seats', 'fuel_CNG', 'fuel_Diesel', 'fuel_LPG', 'fuel_Petrol',\n",
       "       'seller_type_Dealer', 'seller_type_Individual',\n",
       "       'seller_type_Trustmark Dealer', 'transmission_Automatic',\n",
       "       'transmission_Manual', 'owner_First Owner',\n",
       "       'owner_Fourth & Above Owner', 'owner_Second Owner',\n",
       "       'owner_Test Drive Car', 'owner_Third Owner'],\n",
       "      dtype='object')"
      ]
     },
     "execution_count": 94,
     "metadata": {},
     "output_type": "execute_result"
    }
   ],
   "source": [
    "# our new columns\n",
    "df.columns"
   ]
  },
  {
   "cell_type": "code",
   "execution_count": null,
   "metadata": {},
   "outputs": [],
   "source": [
    "# splitting data after encoding into test and train\n",
    "\n",
    "X = df[['year', 'km_driven', 'mileage', 'engine', 'max_power',\n",
    "       'seats', 'fuel_CNG', 'fuel_Diesel', 'fuel_LPG', 'fuel_Petrol',\n",
    "       'seller_type_Dealer', 'seller_type_Individual',\n",
    "       'seller_type_Trustmark Dealer', 'transmission_Automatic',\n",
    "       'transmission_Manual', 'owner_First Owner',\n",
    "       'owner_Fourth & Above Owner', 'owner_Second Owner',\n",
    "       'owner_Test Drive Car', 'owner_Third Owner']]\n",
    "\n",
    "X=df.drop()\n",
    "\n",
    "y = df['selling_price']\n",
    "\n",
    "X_train, X_test, y_train, y_test = train_test_split(X,y , random_state=42,test_size=0.25, shuffle=True)"
   ]
  },
  {
   "cell_type": "code",
   "execution_count": 96,
   "metadata": {},
   "outputs": [],
   "source": [
    "n = 10 # number of estimators (relative to model complexity)\n",
    "\n",
    "gbr = GradientBoostingRegressor(n_estimators=n, random_state=42, learning_rate=0.9) # dont change those parameters\n",
    "gbr.fit(X_train, y_train)\n",
    "\n",
    "# YOUR CODE GOES HERE\n",
    "# predict() with train dataset\n",
    "y_predicted_train = gbr.predict(X_train)\n"
   ]
  },
  {
   "cell_type": "code",
   "execution_count": 97,
   "metadata": {},
   "outputs": [],
   "source": [
    "# predict() with test dataset\n",
    "y_predicted_test = gbr.predict(X_test)"
   ]
  },
  {
   "cell_type": "code",
   "execution_count": 98,
   "metadata": {},
   "outputs": [
    {
     "data": {
      "text/plain": [
       "28650557177.1007"
      ]
     },
     "execution_count": 98,
     "metadata": {},
     "output_type": "execute_result"
    }
   ],
   "source": [
    "# MSE for training data\n",
    "mse_train = mean_squared_error(y_train, y_predicted_train)\n",
    "mse_train"
   ]
  },
  {
   "cell_type": "code",
   "execution_count": 99,
   "metadata": {},
   "outputs": [
    {
     "data": {
      "text/plain": [
       "36094769482.68445"
      ]
     },
     "execution_count": 99,
     "metadata": {},
     "output_type": "execute_result"
    }
   ],
   "source": [
    "# MSE for testing data\n",
    "mse_test = mean_squared_error(y_test, y_predicted_test)\n",
    "\n",
    "mse_test"
   ]
  },
  {
   "cell_type": "markdown",
   "metadata": {},
   "source": [
    "### Task 6: Increase the model complexity\n",
    "\n",
    "Train your model in a loop that increase the parameter ```n```. Start at n = 10 to n = 5000 and step = 500 (otherwise your code will run for hours).\n",
    "\n",
    "At each iterations : \n",
    "- reset the model\n",
    "- train the model\n",
    "- predict values using X_train\n",
    "- compute the MSE of training and testing sets.\n",
    "- store the new mse in a list"
   ]
  },
  {
   "cell_type": "code",
   "execution_count": 142,
   "metadata": {},
   "outputs": [],
   "source": [
    "# RESETTING THE MODEL\n",
    "\n",
    "# import the dataset\n",
    "df = pd.read_csv(\"cars.csv\")\n",
    "df = df.fillna(value=float(0)) # replace NaN by float(0) (don't do this automatically in future projects, it can be source of under or overfitting. It should be done precociously)\n",
    "\n",
    "\n",
    "# dropping column 'name' for convenience\n",
    "\n",
    "df.drop('name', axis=1, inplace=True)\n",
    "\n",
    "# preparing data (categorical values -> numeric values using OHE)\n",
    "\n",
    "ohe = OneHotEncoder(handle_unknown='ignore', sparse_output=False).set_output(transform='pandas')\n",
    "\n",
    "ohetransform = ohe.fit_transform(df[['fuel', 'seller_type', 'transmission', 'owner']])\n",
    "ohetransform  = ohetransform.astype(int)\n",
    "\n",
    "df = pd.concat([df, ohetransform], axis=1)\n",
    "\n",
    "df = df.drop(['fuel', 'seller_type', 'transmission', 'owner'], axis=1)\n",
    "\n",
    "\n",
    "# splitting data after encoding into test ans train\n",
    "\n",
    "X = df[['year', 'km_driven', 'mileage', 'engine', 'max_power',\n",
    "       'seats', 'fuel_CNG', 'fuel_Diesel', 'fuel_LPG', 'fuel_Petrol',\n",
    "       'seller_type_Dealer', 'seller_type_Individual',\n",
    "       'seller_type_Trustmark Dealer', 'transmission_Automatic',\n",
    "       'transmission_Manual', 'owner_First Owner',\n",
    "       'owner_Fourth & Above Owner', 'owner_Second Owner',\n",
    "       'owner_Test Drive Car', 'owner_Third Owner']]\n",
    "y = df['selling_price']\n",
    "\n",
    "X_train, X_test, y_train, y_test = train_test_split(X,y , random_state=42,test_size=0.25, shuffle=True)\n"
   ]
  },
  {
   "cell_type": "code",
   "execution_count": 143,
   "metadata": {},
   "outputs": [],
   "source": [
    "# creating mse_train_list list\n",
    "mse_train_list = []\n",
    "\n",
    "\n",
    "# creating mse_train_list list\n",
    "mse_test_list = []"
   ]
  },
  {
   "cell_type": "code",
   "execution_count": 144,
   "metadata": {},
   "outputs": [],
   "source": [
    "for i in range(1, 201, 5):\n",
    "    gbr = GradientBoostingRegressor(n_estimators=i, random_state=42, learning_rate=0.9) \n",
    "    gbr.fit(X_train, y_train)\n",
    "\n",
    "\n",
    "    y_predicted_train = gbr.predict(X_train)\n",
    "\n",
    "    y_predicted_test = gbr.predict(X_test)\n",
    "\n",
    "    mse_train = mean_squared_error(y_train, y_predicted_train)\n",
    "    mse_train_list.append(mse_train)\n",
    "\n",
    "    mse_test = mean_squared_error(y_test, y_predicted_test)\n",
    "    mse_test_list.append(mse_test)"
   ]
  },
  {
   "cell_type": "code",
   "execution_count": 145,
   "metadata": {},
   "outputs": [
    {
     "data": {
      "text/plain": [
       "[109710452990.57033,\n",
       " 34256474388.018654,\n",
       " 27558715814.624878,\n",
       " 22297788904.93416,\n",
       " 18497277822.654324,\n",
       " 16275376157.903854,\n",
       " 14375956275.225616,\n",
       " 13159856288.87438,\n",
       " 12207596233.967928,\n",
       " 11544103161.902155,\n",
       " 10850154144.054405,\n",
       " 10344540664.224043,\n",
       " 9805227594.990154,\n",
       " 9480924478.275652,\n",
       " 9092570365.880693,\n",
       " 8832064117.3541,\n",
       " 8647569147.61104,\n",
       " 8207827118.410308,\n",
       " 7979161910.813812,\n",
       " 7743349969.195778,\n",
       " 7567594678.161171,\n",
       " 7392145046.542787,\n",
       " 7159948604.639436,\n",
       " 6912293544.484711,\n",
       " 6733508086.843795,\n",
       " 6580132715.807207,\n",
       " 6439495112.071253,\n",
       " 6273217903.181935,\n",
       " 6088986396.034027,\n",
       " 5768606535.76565,\n",
       " 5617529535.458087,\n",
       " 5466707297.0155,\n",
       " 5322413463.656597,\n",
       " 5248208437.572563,\n",
       " 5179504072.606663,\n",
       " 5095423432.818733,\n",
       " 5043243459.8449545,\n",
       " 4943833496.690288,\n",
       " 4865869353.958978,\n",
       " 4786797727.885988]"
      ]
     },
     "execution_count": 145,
     "metadata": {},
     "output_type": "execute_result"
    }
   ],
   "source": [
    "mse_train_list"
   ]
  },
  {
   "cell_type": "code",
   "execution_count": 146,
   "metadata": {},
   "outputs": [
    {
     "data": {
      "text/plain": [
       "[99961776111.98567,\n",
       " 45918324080.2972,\n",
       " 37525231962.4536,\n",
       " 35444434395.341896,\n",
       " 33145472534.4616,\n",
       " 30033371547.84627,\n",
       " 29630930917.69588,\n",
       " 30243337108.456783,\n",
       " 30552611844.654152,\n",
       " 29796178487.367634,\n",
       " 29690344475.520897,\n",
       " 28992958968.17708,\n",
       " 28221965571.881687,\n",
       " 28115212842.653996,\n",
       " 27764688938.100357,\n",
       " 28123647474.94694,\n",
       " 27439873639.57658,\n",
       " 28232877167.297474,\n",
       " 28385290263.847294,\n",
       " 28137469572.428387,\n",
       " 28501943224.74315,\n",
       " 28407789265.23192,\n",
       " 28139577322.33869,\n",
       " 28803009459.817543,\n",
       " 28945467345.92621,\n",
       " 29228394999.34758,\n",
       " 29126018271.499588,\n",
       " 29035788091.370735,\n",
       " 28367939028.08765,\n",
       " 28323838725.07378,\n",
       " 28444149602.082474,\n",
       " 28153537925.55972,\n",
       " 28208838330.38049,\n",
       " 28133389021.978855,\n",
       " 28146947905.91915,\n",
       " 28237014438.42402,\n",
       " 28266281204.907864,\n",
       " 28735293898.50365,\n",
       " 28715582732.65958,\n",
       " 28532129417.551334]"
      ]
     },
     "execution_count": 146,
     "metadata": {},
     "output_type": "execute_result"
    }
   ],
   "source": [
    "mse_test_list "
   ]
  },
  {
   "cell_type": "markdown",
   "metadata": {},
   "source": [
    "### Task 7 : In one figure, plot both train and test MSE evolution, with respect to the model complexity (i.e. n) "
   ]
  },
  {
   "cell_type": "code",
   "execution_count": 147,
   "metadata": {},
   "outputs": [
    {
     "data": {
      "text/html": [
       "<div>\n",
       "<style scoped>\n",
       "    .dataframe tbody tr th:only-of-type {\n",
       "        vertical-align: middle;\n",
       "    }\n",
       "\n",
       "    .dataframe tbody tr th {\n",
       "        vertical-align: top;\n",
       "    }\n",
       "\n",
       "    .dataframe thead th {\n",
       "        text-align: right;\n",
       "    }\n",
       "</style>\n",
       "<table border=\"1\" class=\"dataframe\">\n",
       "  <thead>\n",
       "    <tr style=\"text-align: right;\">\n",
       "      <th></th>\n",
       "      <th>model_compl</th>\n",
       "      <th>mse_train</th>\n",
       "      <th>mse_test</th>\n",
       "    </tr>\n",
       "  </thead>\n",
       "  <tbody>\n",
       "    <tr>\n",
       "      <th>0</th>\n",
       "      <td>1</td>\n",
       "      <td>1.097105e+11</td>\n",
       "      <td>9.996178e+10</td>\n",
       "    </tr>\n",
       "    <tr>\n",
       "      <th>1</th>\n",
       "      <td>6</td>\n",
       "      <td>3.425647e+10</td>\n",
       "      <td>4.591832e+10</td>\n",
       "    </tr>\n",
       "    <tr>\n",
       "      <th>2</th>\n",
       "      <td>11</td>\n",
       "      <td>2.755872e+10</td>\n",
       "      <td>3.752523e+10</td>\n",
       "    </tr>\n",
       "    <tr>\n",
       "      <th>3</th>\n",
       "      <td>16</td>\n",
       "      <td>2.229779e+10</td>\n",
       "      <td>3.544443e+10</td>\n",
       "    </tr>\n",
       "    <tr>\n",
       "      <th>4</th>\n",
       "      <td>21</td>\n",
       "      <td>1.849728e+10</td>\n",
       "      <td>3.314547e+10</td>\n",
       "    </tr>\n",
       "    <tr>\n",
       "      <th>5</th>\n",
       "      <td>26</td>\n",
       "      <td>1.627538e+10</td>\n",
       "      <td>3.003337e+10</td>\n",
       "    </tr>\n",
       "    <tr>\n",
       "      <th>6</th>\n",
       "      <td>31</td>\n",
       "      <td>1.437596e+10</td>\n",
       "      <td>2.963093e+10</td>\n",
       "    </tr>\n",
       "    <tr>\n",
       "      <th>7</th>\n",
       "      <td>36</td>\n",
       "      <td>1.315986e+10</td>\n",
       "      <td>3.024334e+10</td>\n",
       "    </tr>\n",
       "    <tr>\n",
       "      <th>8</th>\n",
       "      <td>41</td>\n",
       "      <td>1.220760e+10</td>\n",
       "      <td>3.055261e+10</td>\n",
       "    </tr>\n",
       "    <tr>\n",
       "      <th>9</th>\n",
       "      <td>46</td>\n",
       "      <td>1.154410e+10</td>\n",
       "      <td>2.979618e+10</td>\n",
       "    </tr>\n",
       "    <tr>\n",
       "      <th>10</th>\n",
       "      <td>51</td>\n",
       "      <td>1.085015e+10</td>\n",
       "      <td>2.969034e+10</td>\n",
       "    </tr>\n",
       "    <tr>\n",
       "      <th>11</th>\n",
       "      <td>56</td>\n",
       "      <td>1.034454e+10</td>\n",
       "      <td>2.899296e+10</td>\n",
       "    </tr>\n",
       "    <tr>\n",
       "      <th>12</th>\n",
       "      <td>61</td>\n",
       "      <td>9.805228e+09</td>\n",
       "      <td>2.822197e+10</td>\n",
       "    </tr>\n",
       "    <tr>\n",
       "      <th>13</th>\n",
       "      <td>66</td>\n",
       "      <td>9.480924e+09</td>\n",
       "      <td>2.811521e+10</td>\n",
       "    </tr>\n",
       "    <tr>\n",
       "      <th>14</th>\n",
       "      <td>71</td>\n",
       "      <td>9.092570e+09</td>\n",
       "      <td>2.776469e+10</td>\n",
       "    </tr>\n",
       "    <tr>\n",
       "      <th>15</th>\n",
       "      <td>76</td>\n",
       "      <td>8.832064e+09</td>\n",
       "      <td>2.812365e+10</td>\n",
       "    </tr>\n",
       "    <tr>\n",
       "      <th>16</th>\n",
       "      <td>81</td>\n",
       "      <td>8.647569e+09</td>\n",
       "      <td>2.743987e+10</td>\n",
       "    </tr>\n",
       "    <tr>\n",
       "      <th>17</th>\n",
       "      <td>86</td>\n",
       "      <td>8.207827e+09</td>\n",
       "      <td>2.823288e+10</td>\n",
       "    </tr>\n",
       "    <tr>\n",
       "      <th>18</th>\n",
       "      <td>91</td>\n",
       "      <td>7.979162e+09</td>\n",
       "      <td>2.838529e+10</td>\n",
       "    </tr>\n",
       "    <tr>\n",
       "      <th>19</th>\n",
       "      <td>96</td>\n",
       "      <td>7.743350e+09</td>\n",
       "      <td>2.813747e+10</td>\n",
       "    </tr>\n",
       "    <tr>\n",
       "      <th>20</th>\n",
       "      <td>101</td>\n",
       "      <td>7.567595e+09</td>\n",
       "      <td>2.850194e+10</td>\n",
       "    </tr>\n",
       "    <tr>\n",
       "      <th>21</th>\n",
       "      <td>106</td>\n",
       "      <td>7.392145e+09</td>\n",
       "      <td>2.840779e+10</td>\n",
       "    </tr>\n",
       "    <tr>\n",
       "      <th>22</th>\n",
       "      <td>111</td>\n",
       "      <td>7.159949e+09</td>\n",
       "      <td>2.813958e+10</td>\n",
       "    </tr>\n",
       "    <tr>\n",
       "      <th>23</th>\n",
       "      <td>116</td>\n",
       "      <td>6.912294e+09</td>\n",
       "      <td>2.880301e+10</td>\n",
       "    </tr>\n",
       "    <tr>\n",
       "      <th>24</th>\n",
       "      <td>121</td>\n",
       "      <td>6.733508e+09</td>\n",
       "      <td>2.894547e+10</td>\n",
       "    </tr>\n",
       "    <tr>\n",
       "      <th>25</th>\n",
       "      <td>126</td>\n",
       "      <td>6.580133e+09</td>\n",
       "      <td>2.922839e+10</td>\n",
       "    </tr>\n",
       "    <tr>\n",
       "      <th>26</th>\n",
       "      <td>131</td>\n",
       "      <td>6.439495e+09</td>\n",
       "      <td>2.912602e+10</td>\n",
       "    </tr>\n",
       "    <tr>\n",
       "      <th>27</th>\n",
       "      <td>136</td>\n",
       "      <td>6.273218e+09</td>\n",
       "      <td>2.903579e+10</td>\n",
       "    </tr>\n",
       "    <tr>\n",
       "      <th>28</th>\n",
       "      <td>141</td>\n",
       "      <td>6.088986e+09</td>\n",
       "      <td>2.836794e+10</td>\n",
       "    </tr>\n",
       "    <tr>\n",
       "      <th>29</th>\n",
       "      <td>146</td>\n",
       "      <td>5.768607e+09</td>\n",
       "      <td>2.832384e+10</td>\n",
       "    </tr>\n",
       "    <tr>\n",
       "      <th>30</th>\n",
       "      <td>151</td>\n",
       "      <td>5.617530e+09</td>\n",
       "      <td>2.844415e+10</td>\n",
       "    </tr>\n",
       "    <tr>\n",
       "      <th>31</th>\n",
       "      <td>156</td>\n",
       "      <td>5.466707e+09</td>\n",
       "      <td>2.815354e+10</td>\n",
       "    </tr>\n",
       "    <tr>\n",
       "      <th>32</th>\n",
       "      <td>161</td>\n",
       "      <td>5.322413e+09</td>\n",
       "      <td>2.820884e+10</td>\n",
       "    </tr>\n",
       "    <tr>\n",
       "      <th>33</th>\n",
       "      <td>166</td>\n",
       "      <td>5.248208e+09</td>\n",
       "      <td>2.813339e+10</td>\n",
       "    </tr>\n",
       "    <tr>\n",
       "      <th>34</th>\n",
       "      <td>171</td>\n",
       "      <td>5.179504e+09</td>\n",
       "      <td>2.814695e+10</td>\n",
       "    </tr>\n",
       "    <tr>\n",
       "      <th>35</th>\n",
       "      <td>176</td>\n",
       "      <td>5.095423e+09</td>\n",
       "      <td>2.823701e+10</td>\n",
       "    </tr>\n",
       "    <tr>\n",
       "      <th>36</th>\n",
       "      <td>181</td>\n",
       "      <td>5.043243e+09</td>\n",
       "      <td>2.826628e+10</td>\n",
       "    </tr>\n",
       "    <tr>\n",
       "      <th>37</th>\n",
       "      <td>186</td>\n",
       "      <td>4.943833e+09</td>\n",
       "      <td>2.873529e+10</td>\n",
       "    </tr>\n",
       "    <tr>\n",
       "      <th>38</th>\n",
       "      <td>191</td>\n",
       "      <td>4.865869e+09</td>\n",
       "      <td>2.871558e+10</td>\n",
       "    </tr>\n",
       "    <tr>\n",
       "      <th>39</th>\n",
       "      <td>196</td>\n",
       "      <td>4.786798e+09</td>\n",
       "      <td>2.853213e+10</td>\n",
       "    </tr>\n",
       "  </tbody>\n",
       "</table>\n",
       "</div>"
      ],
      "text/plain": [
       "    model_compl     mse_train      mse_test\n",
       "0             1  1.097105e+11  9.996178e+10\n",
       "1             6  3.425647e+10  4.591832e+10\n",
       "2            11  2.755872e+10  3.752523e+10\n",
       "3            16  2.229779e+10  3.544443e+10\n",
       "4            21  1.849728e+10  3.314547e+10\n",
       "5            26  1.627538e+10  3.003337e+10\n",
       "6            31  1.437596e+10  2.963093e+10\n",
       "7            36  1.315986e+10  3.024334e+10\n",
       "8            41  1.220760e+10  3.055261e+10\n",
       "9            46  1.154410e+10  2.979618e+10\n",
       "10           51  1.085015e+10  2.969034e+10\n",
       "11           56  1.034454e+10  2.899296e+10\n",
       "12           61  9.805228e+09  2.822197e+10\n",
       "13           66  9.480924e+09  2.811521e+10\n",
       "14           71  9.092570e+09  2.776469e+10\n",
       "15           76  8.832064e+09  2.812365e+10\n",
       "16           81  8.647569e+09  2.743987e+10\n",
       "17           86  8.207827e+09  2.823288e+10\n",
       "18           91  7.979162e+09  2.838529e+10\n",
       "19           96  7.743350e+09  2.813747e+10\n",
       "20          101  7.567595e+09  2.850194e+10\n",
       "21          106  7.392145e+09  2.840779e+10\n",
       "22          111  7.159949e+09  2.813958e+10\n",
       "23          116  6.912294e+09  2.880301e+10\n",
       "24          121  6.733508e+09  2.894547e+10\n",
       "25          126  6.580133e+09  2.922839e+10\n",
       "26          131  6.439495e+09  2.912602e+10\n",
       "27          136  6.273218e+09  2.903579e+10\n",
       "28          141  6.088986e+09  2.836794e+10\n",
       "29          146  5.768607e+09  2.832384e+10\n",
       "30          151  5.617530e+09  2.844415e+10\n",
       "31          156  5.466707e+09  2.815354e+10\n",
       "32          161  5.322413e+09  2.820884e+10\n",
       "33          166  5.248208e+09  2.813339e+10\n",
       "34          171  5.179504e+09  2.814695e+10\n",
       "35          176  5.095423e+09  2.823701e+10\n",
       "36          181  5.043243e+09  2.826628e+10\n",
       "37          186  4.943833e+09  2.873529e+10\n",
       "38          191  4.865869e+09  2.871558e+10\n",
       "39          196  4.786798e+09  2.853213e+10"
      ]
     },
     "execution_count": 147,
     "metadata": {},
     "output_type": "execute_result"
    }
   ],
   "source": [
    "model_compl = list(range(1, 201, 5))\n",
    "df_trained = pd.DataFrame(zip(model_compl, mse_train_list, mse_test_list ), columns=['model_compl','mse_train','mse_test'])\n",
    "df_trained"
   ]
  },
  {
   "cell_type": "code",
   "execution_count": 141,
   "metadata": {},
   "outputs": [
    {
     "data": {
      "image/png": "[encoded data removed]",
      "text/plain": [
       "<Figure size 640x480 with 1 Axes>"
      ]
     },
     "metadata": {},
     "output_type": "display_data"
    }
   ],
   "source": [
    "sns.lineplot(data=df_trained, x='model_compl', y='mse_train', label='mse_train')\n",
    "sns.lineplot(data=df_trained, x='model_compl', y='mse_test', label='mse_test')\n",
    "\n",
    "plt.xlabel('Model Complexity (n)', fontsize=14)\n",
    "plt.ylabel('Mean Squared Error', fontsize=14)\n",
    "\n",
    "plt.grid(True)\n"
   ]
  },
  {
   "cell_type": "markdown",
   "metadata": {},
   "source": [
    "### Task 8 : What can you observe ?"
   ]
  },
  {
   "cell_type": "markdown",
   "metadata": {},
   "source": [
    "The mse_train is decreasing, model is fitting the training data well.\n",
    "\n",
    "At initial values if model complexity(n) the mse_test fluctuates (starts probable overfitting). As model complexity increases, the mse_test does not seem to decrease."
   ]
  },
  {
   "cell_type": "markdown",
   "metadata": {},
   "source": [
    "### Task 9 (Bonus) : In your opinion, what could we change in the code to improve our model fit ? "
   ]
  },
  {
   "cell_type": "markdown",
   "metadata": {},
   "source": [
    "Add normalization of features (min-max scaling or standardization). I think it would help to improve feature balance and treat all features equally."
   ]
  }
 ],
 "metadata": {
  "kernelspec": {
   "display_name": "env",
   "language": "python",
   "name": "python3"
  },
  "language_info": {
   "codemirror_mode": {
    "name": "ipython",
    "version": 3
   },
   "file_extension": ".py",
   "mimetype": "text/x-python",
   "name": "python",
   "nbconvert_exporter": "python",
   "pygments_lexer": "ipython3",
   "version": "3.13.2"
  }
 },
 "nbformat": 4,
 "nbformat_minor": 2
}
